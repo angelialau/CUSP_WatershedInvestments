{
 "cells": [
  {
   "cell_type": "code",
   "execution_count": null,
   "metadata": {},
   "outputs": [],
   "source": [
    "import numpy as np\n",
    "import pandas as pd\n",
    "import seaborn as sns\n",
    "import matplotlib.pyplot as plt\n",
    "%matplotlib inline \n",
    "\n",
    "# input files\n",
    "QCEW_FILEPATH = '../data/QCEW_2000-2018_cleaned_naics_sectors.csv'\n",
    "LAP_ACRES_FILEPATH = '../data/LAP_landuse_acres.csv'\n",
    "\n",
    "# constants\n",
    "WOH_COUNTIES = ['Delaware', 'Greene', 'Schoharie', 'Sullivan', 'Ulster']\n",
    "EOH_COUNTIES = ['Dutchess', 'Putnam', 'Westchester']\n",
    "METRICS = ['Real Total Salary', 'Real Average Salary', 'Average Employment', 'Establishments']\n",
    "TOTAL_INDUSTRIES = ['Total, All Industries', 'Total, All Private', 'Total, All Government']\n",
    "LANDUSE_TYPES = ['Agricultural Land', 'Forest Land', 'Urban/Built-up Land', 'Others']\n",
    "       "
   ]
  },
  {
   "cell_type": "code",
   "execution_count": null,
   "metadata": {},
   "outputs": [],
   "source": [
    "qcew = pd.read_csv(QCEW_FILEPATH, index_col=0)\n",
    "qcew.head()"
   ]
  },
  {
   "cell_type": "code",
   "execution_count": null,
   "metadata": {
    "scrolled": true
   },
   "outputs": [],
   "source": [
    "# load LAP Acres\n",
    "lap_acres = pd.read_csv(LAP_ACRES_FILEPATH, index_col=0)\n",
    "lap_acres.head()"
   ]
  },
  {
   "cell_type": "code",
   "execution_count": null,
   "metadata": {},
   "outputs": [],
   "source": [
    "# years avail for our datasets\n",
    "print('years avail for qcew:', qcew.Year.min(), '-', qcew.Year.max())\n",
    "print('years avail for lap:', lap_acres.year.min(), '-', lap_acres.year.max())\n",
    "common_years = set(qcew.Year).intersection(set(lap_acres.index))\n",
    "print('common years:', common_years)"
   ]
  },
  {
   "cell_type": "code",
   "execution_count": null,
   "metadata": {},
   "outputs": [],
   "source": [
    "# truncate datasets to common years ie 2000-2018\n",
    "lap_acres = lap_acres[lap_acres.year.isin(common_years)]\n",
    "qcew = qcew[qcew.Year.isin(common_years)]"
   ]
  },
  {
   "cell_type": "code",
   "execution_count": null,
   "metadata": {},
   "outputs": [],
   "source": [
    "lap_acres.landuse.unique()"
   ]
  },
  {
   "cell_type": "markdown",
   "metadata": {},
   "source": [
    "# Output as json (for viz)"
   ]
  },
  {
   "cell_type": "code",
   "execution_count": null,
   "metadata": {},
   "outputs": [],
   "source": [
    "# WOH: industries x metric x counties x landuse\n",
    "correlations = {}\n",
    "for metric in METRICS:\n",
    "    correlations[metric] = {}\n",
    "    for landuse_type in LANDUSE_TYPES:\n",
    "        correlations[metric][landuse_type] = {}\n",
    "        for county in WOH_COUNTIES: \n",
    "            subset = qcew[qcew.index==county].pivot(index='Year',\n",
    "                                                         columns='NAICS Title',\n",
    "                                                         values=metric)\n",
    "            subset.dropna(axis='columns', how='any', inplace=True)\n",
    "\n",
    "            subset['landuse_acres'] = lap_acres[(lap_acres.landuse==landuse_type) \n",
    "                                                & (lap_acres.county==county)]\\\n",
    "                                        .pivot_table(index='year', \n",
    "                                                     values='landuse_acres', \n",
    "                                                     aggfunc='sum', \n",
    "                                                     fill_value=0)\n",
    "            correlations[metric][landuse_type][county] = subset.corr().iloc[-1, :-1].to_dict() # industry: corr val"
   ]
  },
  {
   "cell_type": "code",
   "execution_count": null,
   "metadata": {},
   "outputs": [],
   "source": [
    "import json\n",
    "with open('../output/woh_corr_4.json', 'w') as f:\n",
    "    json.dump(correlations, f)"
   ]
  },
  {
   "cell_type": "markdown",
   "metadata": {},
   "source": [
    "# Viz"
   ]
  },
  {
   "cell_type": "code",
   "execution_count": null,
   "metadata": {},
   "outputs": [],
   "source": [
    "def plot_corr(landuse_type, metric):\n",
    "    correlations = {}\n",
    "    for industry in np.setdiff1d(qcew['NAICS Title'].unique() , TOTAL_INDUSTRIES):\n",
    "        qcew_subset = qcew[(qcew['NAICS Title']==industry) & qcew.index.isin(WOH_COUNTIES)]\\\n",
    "                        .pivot_table(index='Year', \n",
    "                                     columns='County', \n",
    "                                     values=metric)\n",
    "        if qcew_subset.isnull().any().any(): continue\n",
    "\n",
    "        lap_subset = lap_acres[lap_acres.landuse==landuse_type]\\\n",
    "                        .pivot_table(index='year', \n",
    "                                     columns='county', \n",
    "                                     values='landuse_acres', \n",
    "                                     aggfunc='sum', \n",
    "                                     fill_value=0)\n",
    "\n",
    "        correlations[industry] = qcew_subset.corrwith(lap_subset).to_dict()\n",
    "\n",
    "    correlations = pd.DataFrame(correlations)\n",
    "    # plot\n",
    "    _, ax = plt.subplots(figsize=(8,6))\n",
    "    sns.heatmap(correlations.transpose(), \n",
    "                center=0, vmin=-1, vmax=1, \n",
    "                cmap=sns.diverging_palette(10, 145, sep=40, n=10),\n",
    "                annot=True,\n",
    "                ax=ax)\n",
    "    ax.set_title('Correlation between\\nLanduse (acres acquired): %s\\nEconomic Metric: %s'%(landuse_type, metric))\n"
   ]
  },
  {
   "cell_type": "code",
   "execution_count": null,
   "metadata": {
    "scrolled": false
   },
   "outputs": [],
   "source": [
    "plot_corr(landuse_type='Forest Land', metric='Real Total Salary')"
   ]
  },
  {
   "cell_type": "code",
   "execution_count": null,
   "metadata": {},
   "outputs": [],
   "source": [
    "requests = [{'metric': 'Real Average Salary',\n",
    "             'county': 'Greene',\n",
    "             'industry': 'Other Services, Ex. Public Admin'\n",
    "            },\n",
    "            {'metric': 'Real Average Salary',\n",
    "             'county': 'Schoharie',\n",
    "             'industry': 'Agriculture, Forestry, Fishing and Hunting'\n",
    "            },\n",
    "            {'metric': 'Real Average Salary',\n",
    "             'county': 'Ulster',\n",
    "             'industry': 'Agriculture, Forestry, Fishing and Hunting'\n",
    "            },\n",
    "            {'metric': 'Real Average Salary',\n",
    "             'county': 'Greene',\n",
    "             'industry': 'Arts, Entertainment, and Recreation'\n",
    "            },\n",
    "            {'metric': 'Real Average Salary',\n",
    "             'county': 'Schoharie',\n",
    "             'industry': 'Administrative and Waste Services'\n",
    "            },\n",
    "            {'metric': 'Average Employment',\n",
    "             'county': 'Ulster',\n",
    "             'industry': 'Information'\n",
    "            },\n",
    "            {'metric': 'Average Employment',\n",
    "             'county': 'Ulster',\n",
    "             'industry': 'Arts, Entertainment, and Recreation'\n",
    "            },\n",
    "            {'metric': 'Establishments',\n",
    "             'county': 'Ulster',\n",
    "             'industry': 'Manufacturing'\n",
    "            },\n",
    "            {'metric': 'Establishments',\n",
    "             'county': 'Ulster',\n",
    "             'industry': 'Professional and Technical Services'\n",
    "            },\n",
    "            {'metric': 'Establishments',\n",
    "             'county': 'Greene',\n",
    "             'industry': 'Retail Trade'\n",
    "            }]"
   ]
  },
  {
   "cell_type": "code",
   "execution_count": null,
   "metadata": {
    "scrolled": false
   },
   "outputs": [],
   "source": [
    "# plot trends for specific correlations\n",
    "from sklearn.preprocessing import MinMaxScaler\n",
    "from matplotlib.lines import Line2D\n",
    "\n",
    "scaler = MinMaxScaler()\n",
    "\n",
    "for req in requests:\n",
    "    metric = req['metric']\n",
    "    county = req['county']\n",
    "    industry = req['industry']\n",
    "\n",
    "    ### data wrangling\n",
    "    # lap data\n",
    "    subset = lap_acres[lap_acres.county==county]\\\n",
    "                    .pivot_table(index='year', \n",
    "                                 columns='landuse', \n",
    "                                 values='landuse_acres', \n",
    "                                 aggfunc='sum', \n",
    "                                 fill_value=0)\\\n",
    "                    [LANDUSE_TYPES]\n",
    "    subset['All Lands'] = subset.sum(axis=1)\n",
    "\n",
    "    # add economic data to it\n",
    "    subset = subset.join(qcew[(qcew.index==county) \n",
    "                       & (qcew['NAICS Title']==industry)]\\\n",
    "                    .set_index('Year')\n",
    "                    [[metric]])\n",
    "    # min max scale the data\n",
    "    subset = pd.DataFrame(scaler.fit_transform(subset), \n",
    "                          columns=subset.columns,\n",
    "                          index=subset.index)\n",
    "    labels = ['%s (%.2f)'%pair for pair in subset.corr().iloc[-1, :-1].items()]\n",
    "    labels.append(metric)\n",
    "    ### plotting\n",
    "    # plot lap acres\n",
    "    title = 'Metric: %s\\nCounty: %s\\nIndustry: %s'%(metric, county, industry)\n",
    "    ax = subset.iloc[:, :-1].plot(figsize=(12,5),\n",
    "                                  title=title)\n",
    "    # plot economic metric\n",
    "    subset[metric].plot(ax=ax, linewidth=4, color='sienna')\n",
    "\n",
    "    plt.legend(labels=labels,\n",
    "               bbox_to_anchor=(1,1))\n",
    "    plt.xlabel('Year')\n",
    "    plt.grid(True)"
   ]
  },
  {
   "cell_type": "code",
   "execution_count": null,
   "metadata": {},
   "outputs": [],
   "source": [
    "for landuse_type in LANDUSE_TYPES:\n",
    "    plot_corr(landuse_type=landuse_type, metric='Average Employment')"
   ]
  },
  {
   "cell_type": "code",
   "execution_count": null,
   "metadata": {},
   "outputs": [],
   "source": [
    "for landuse_type in LANDUSE_TYPES:\n",
    "    plot_corr(landuse_type=landuse_type, metric='Establishments')"
   ]
  }
 ],
 "metadata": {
  "kernelspec": {
   "display_name": "Python 3",
   "language": "python",
   "name": "python3"
  },
  "language_info": {
   "codemirror_mode": {
    "name": "ipython",
    "version": 3
   },
   "file_extension": ".py",
   "mimetype": "text/x-python",
   "name": "python",
   "nbconvert_exporter": "python",
   "pygments_lexer": "ipython3",
   "version": "3.7.4"
  }
 },
 "nbformat": 4,
 "nbformat_minor": 2
}
