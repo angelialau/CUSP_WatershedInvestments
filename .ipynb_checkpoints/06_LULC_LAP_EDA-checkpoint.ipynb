{
 "cells": [
  {
   "cell_type": "code",
   "execution_count": null,
   "metadata": {},
   "outputs": [],
   "source": [
    "import pandas as pd\n",
    "import geopandas as gpd\n",
    "import matplotlib.pyplot as plt\n",
    "%matplotlib inline\n",
    "\n",
    "LULC_LAP_FILEPATH = '../data/LULC_LAP_WOH.csv'\n",
    "LAP_GEOJSON_FILEPATH = '../data/LAP.geojson'\n",
    "LU_LAP_AGG_FILEPATH = '../data/LAP_landuse_acres.csv'\n",
    "LU_CODE_METADATA_FILEPATH = '../data/LandUseCodes_DEP.csv'"
   ]
  },
  {
   "cell_type": "markdown",
   "metadata": {},
   "source": [
    "# LAP EDA"
   ]
  },
  {
   "cell_type": "code",
   "execution_count": null,
   "metadata": {},
   "outputs": [],
   "source": [
    "# original lap dataset, includes both WOH and EOH\n",
    "lap = gpd.read_file(LAP_GEOJSON_FILEPATH, parse_dates=['CLOSING_DT'])\n",
    "lap = lap[lap.Acquisitio=='LAP']\n",
    "lap.head(2)"
   ]
  },
  {
   "cell_type": "code",
   "execution_count": null,
   "metadata": {},
   "outputs": [],
   "source": [
    "lap.groupby('County').GIS_Acres.sum()"
   ]
  },
  {
   "cell_type": "code",
   "execution_count": null,
   "metadata": {},
   "outputs": [],
   "source": [
    "print('EOH + WOH:')\n",
    "print(lap.SWIS_SBL.nunique(), lap.PROP_ID.nunique(), lap.shape, lap.GIS_Acres.sum())\n",
    "print()\n",
    "print('WOH only:')\n",
    "woh = lap[lap.SOH=='West']\n",
    "print(woh.SWIS_SBL.nunique(), woh.PROP_ID.nunique(), woh.shape, woh.GIS_Acres.sum())"
   ]
  },
  {
   "cell_type": "code",
   "execution_count": null,
   "metadata": {},
   "outputs": [],
   "source": [
    "# sizes of properties - whether EOH, WOH, LAP or non-LAP\n",
    "lap.groupby('PROP_ID').GIS_Acres.sum().describe()\n",
    "# average size of plot is 130 acres\n",
    "# median size of plot is 47 acres\n",
    "# largest plot is 83k acres"
   ]
  },
  {
   "cell_type": "code",
   "execution_count": null,
   "metadata": {},
   "outputs": [],
   "source": [
    "# LAP lands only\n",
    "print('LAP acreage statistics')\n",
    "print('EOH + WOH:')\n",
    "print(lap[lap.Acquisitio=='LAP'].groupby('PROP_ID').GIS_Acres.sum().describe())\n",
    "print()\n",
    "print('WOH only:')\n",
    "print(lap[(lap.Acquisitio=='LAP') & (lap.SOH=='West')].groupby('PROP_ID').GIS_Acres.sum().describe())\n",
    "print()\n",
    "print('EOH only:')\n",
    "print(lap[(lap.Acquisitio=='LAP') & (lap.SOH=='East')].groupby('PROP_ID').GIS_Acres.sum().describe())"
   ]
  },
  {
   "cell_type": "markdown",
   "metadata": {},
   "source": [
    "# LULC-inner joined-LAP EDA"
   ]
  },
  {
   "cell_type": "code",
   "execution_count": null,
   "metadata": {},
   "outputs": [],
   "source": [
    "# LAP inner joined with LULC, only kept most of WOH properties \n",
    "lulc_lap = pd.read_csv(LULC_LAP_FILEPATH, parse_dates=['closing_date'])\n",
    "lulc_lap = lulc_lap[lulc_lap.acquisition_method=='LAP'] # use only those acquired under LAP\n",
    "lulc_lap.head()"
   ]
  },
  {
   "cell_type": "code",
   "execution_count": null,
   "metadata": {},
   "outputs": [],
   "source": [
    "print('LULC-inner joined-LAP:')\n",
    "print(lulc_lap.SWIS_SBL.nunique(), lulc_lap.PROP_ID.nunique(), lulc_lap.shape, lulc_lap.property_acres.sum())"
   ]
  },
  {
   "cell_type": "code",
   "execution_count": null,
   "metadata": {},
   "outputs": [],
   "source": [
    "# percent acreage that LULC_LAP accounts for in WOH\n",
    "lulc_lap_acres = lulc_lap.landuse_acres.sum()\n",
    "lulc_lap_prop_acres = lulc_lap[['FID_LAP', 'property_acres']].drop_duplicates().property_acres.sum()\n",
    "lulc_lap_acres/lulc_lap_prop_acres"
   ]
  },
  {
   "cell_type": "code",
   "execution_count": null,
   "metadata": {},
   "outputs": [],
   "source": [
    "# percent WOH PROP_IDs accounted for in LULC_LAP - specifically those under LAP\n",
    "lulc_lap_ids = set(lulc_lap.PROP_ID)\n",
    "woh_ids = set(woh[woh.Acquisitio=='LAP'].PROP_ID)\n",
    "\n",
    "len(lulc_lap_ids.intersection(woh_ids)) / len(woh_ids)"
   ]
  },
  {
   "cell_type": "markdown",
   "metadata": {},
   "source": [
    "# Aggregate landuse acres per annum"
   ]
  },
  {
   "cell_type": "code",
   "execution_count": null,
   "metadata": {},
   "outputs": [],
   "source": [
    "lu_agg = lulc_lap.pivot_table(index=lulc_lap.closing_date.dt.year, \n",
    "                     columns='landuse_code',\n",
    "                     values='landuse_acres',\n",
    "                     aggfunc='sum',\n",
    "                     fill_value=0)\n",
    "\n",
    "lu_agg.index = lu_agg.index.astype('int') # convert year from float to int\n",
    "lu_agg = lu_agg.drop(index=2020)          # drop 2020 since it is an incomplete year\n",
    "lu_agg"
   ]
  },
  {
   "cell_type": "code",
   "execution_count": null,
   "metadata": {},
   "outputs": [],
   "source": [
    "lu_agg.sum().sort_values(ascending=True).plot.barh(figsize=(5,8), \n",
    "                                                   title='Total Acres of each Landuse Code')\n",
    "plt.xlabel('Acres')\n",
    "plt.ylabel('Landuse code')"
   ]
  },
  {
   "cell_type": "code",
   "execution_count": null,
   "metadata": {},
   "outputs": [],
   "source": [
    "lu_agg.to_csv(LU_LAP_AGG_FILEPATH)"
   ]
  },
  {
   "cell_type": "markdown",
   "metadata": {},
   "source": [
    "# Merge minor landuse codes into 'Others'"
   ]
  },
  {
   "cell_type": "code",
   "execution_count": null,
   "metadata": {},
   "outputs": [],
   "source": [
    "# total acres of each land use\n",
    "landuse_codes_to_merge = lu_agg.sum().sort_values(ascending=False)[8:].index\n",
    "landuse_codes_to_merge"
   ]
  },
  {
   "cell_type": "code",
   "execution_count": null,
   "metadata": {},
   "outputs": [],
   "source": [
    "lu_agg['Others'] = lu_agg[landuse_codes_to_merge].sum(axis=1)\n",
    "lu_agg = lu_agg.drop(columns=landuse_codes_to_merge)\n",
    "lu_agg.head()"
   ]
  },
  {
   "cell_type": "code",
   "execution_count": null,
   "metadata": {},
   "outputs": [],
   "source": [
    "lu_desc = pd.read_csv(LU_CODE_METADATA_FILEPATH, index_col=0)\n",
    "lu_desc[lu_desc.LU_Code.isin(lu_agg.columns)]"
   ]
  },
  {
   "cell_type": "code",
   "execution_count": null,
   "metadata": {},
   "outputs": [],
   "source": [
    "LANDUSE_MAPPING = {1110: 'Urban/Built-up Land',\n",
    "                   1190: 'Urban/Built-up Land',\n",
    "                   2100: 'Agricultural Land',\n",
    "                   2400: 'Agricultural Land',\n",
    "                   3000: 'Forest Land',\n",
    "                   4100: 'Forest Land',\n",
    "                   4200: 'Forest Land',\n",
    "                   4300: 'Forest Land',\n",
    "                   5000: 'Others', 1120: 'Others', 1790: 'Others', \n",
    "                   1730: 'Others', 2220: 'Others', 1402: 'Others',\n",
    "                   7500: 'Others', 2410: 'Others', 1430: 'Others',\n",
    "                   1210: 'Others', 1713: 'Others', 1130: 'Others',\n",
    "                   1401: 'Others', 1220: 'Others', 1714: 'Others',\n",
    "                   1230: 'Others', 1400: 'Others', 1250: 'Others',\n",
    "                   1240: 'Others', 2210: 'Others', 1712: 'Others',\n",
    "                   1711: 'Others', 1140: 'Others'\n",
    "}"
   ]
  },
  {
   "cell_type": "code",
   "execution_count": null,
   "metadata": {},
   "outputs": [],
   "source": [
    "lulc_lap['landuse'] = lulc_lap.landuse_code.replace(LANDUSE_MAPPING)\n",
    "lu_agg = lulc_lap.pivot_table(index=lulc_lap.closing_date.dt.year, \n",
    "                     columns='landuse',\n",
    "                     values='landuse_acres',\n",
    "                     aggfunc='sum',\n",
    "                     fill_value=0)\n",
    "lu_agg.index = lu_agg.index.astype('int')\n",
    "lu_agg = lu_agg.drop(index=2020)\n",
    "lu_agg"
   ]
  },
  {
   "cell_type": "code",
   "execution_count": null,
   "metadata": {},
   "outputs": [],
   "source": [
    "lu_agg.plot.bar(figsize=(12,9), \n",
    "                 stacked=True, \n",
    "#                  cmap='tab10', \n",
    "                 legend='reverse',\n",
    "                 title='Acres Acquired (1997-2019)',\n",
    "                 xticks=lu_agg.index)\n",
    "plt.legend(title='Landuse Codes')\n",
    "plt.xlabel('Year')\n",
    "plt.ylabel('Acres')"
   ]
  },
  {
   "cell_type": "markdown",
   "metadata": {},
   "source": [
    "# Export as csv"
   ]
  },
  {
   "cell_type": "code",
   "execution_count": null,
   "metadata": {},
   "outputs": [],
   "source": [
    "lulc_lap = lulc_lap.sort_values(['PROP_ID', 'closing_date'])\\\n",
    "    .reset_index(drop=True)\n",
    "lulc_lap.head()"
   ]
  },
  {
   "cell_type": "code",
   "execution_count": null,
   "metadata": {},
   "outputs": [],
   "source": [
    "lulc_lap = lulc_lap.dropna(subset=['closing_date'])\n",
    "lulc_lap['year'] = lulc_lap.closing_date.dt.year\n",
    "lulc_lap['year'] = lulc_lap.year.astype('int')\n",
    "lulc_lap.head(20)"
   ]
  },
  {
   "cell_type": "code",
   "execution_count": null,
   "metadata": {},
   "outputs": [],
   "source": [
    "lulc_lap = lulc_lap.reset_index(drop=True)"
   ]
  },
  {
   "cell_type": "code",
   "execution_count": null,
   "metadata": {},
   "outputs": [],
   "source": [
    "lulc_lap.shape"
   ]
  },
  {
   "cell_type": "code",
   "execution_count": null,
   "metadata": {},
   "outputs": [],
   "source": [
    "lulc_lap.to_csv(LU_LAP_AGG_FILEPATH)"
   ]
  },
  {
   "cell_type": "code",
   "execution_count": null,
   "metadata": {},
   "outputs": [],
   "source": [
    "# eda for report \n",
    "LAP_ACRES_FILEPATH = '../data/LAP_landuse_acres.csv'\n",
    "df = pd.read_csv(LAP_ACRES_FILEPATH, index_col=0)\n",
    "df.head()"
   ]
  },
  {
   "cell_type": "code",
   "execution_count": null,
   "metadata": {},
   "outputs": [],
   "source": [
    "landuse_dist = df.groupby('landuse').landuse_acres.sum().sort_values()\n",
    "landuse_dist/landuse_dist.sum()"
   ]
  },
  {
   "cell_type": "markdown",
   "metadata": {},
   "source": [
    "# Export as json"
   ]
  },
  {
   "cell_type": "code",
   "execution_count": null,
   "metadata": {},
   "outputs": [],
   "source": [
    "import pandas as pd\n",
    "LAP_ACRES_FILEPATH = '../data/LAP_landuse_acres.csv'\n",
    "WOH_COUNTIES = ['Delaware', 'Greene', 'Schoharie',\n",
    "                'Sullivan', 'Ulster']\n",
    "\n",
    "df = pd.read_csv(LAP_ACRES_FILEPATH, index_col=0)\n",
    "df.head()"
   ]
  },
  {
   "cell_type": "code",
   "execution_count": null,
   "metadata": {},
   "outputs": [],
   "source": [
    "data = {}\n",
    "county = 'Delaware'\n",
    "landuse_type = 'Forest Land'\n",
    "for county in WOH_COUNTIES:\n",
    "    data[county] = df[(df.county==county)].pivot_table(columns='landuse', \n",
    "                                                       index='year', \n",
    "                                                       values='landuse_acres', \n",
    "                                                       aggfunc='sum', \n",
    "                                                       fill_value=0).to_dict()\n"
   ]
  },
  {
   "cell_type": "code",
   "execution_count": null,
   "metadata": {},
   "outputs": [],
   "source": [
    "import json\n",
    "with open('../output/lap_woh_with_landuse.json', 'w') as f:\n",
    "    json.dump(data, f)"
   ]
  },
  {
   "cell_type": "code",
   "execution_count": null,
   "metadata": {},
   "outputs": [],
   "source": [
    "# aggregate by landuse first\n",
    "with open('../output/lap_landuse_acres_sum.json', 'w') as f:\n",
    "    data = df.pivot_table(index='year', \n",
    "                   columns='landuse',\n",
    "                   values='landuse_acres', \n",
    "                   aggfunc='sum',fill_value=0).to_dict()\n",
    "    json.dump(data, f, indent=2)"
   ]
  }
 ],
 "metadata": {
  "kernelspec": {
   "display_name": "Python 3",
   "language": "python",
   "name": "python3"
  },
  "language_info": {
   "codemirror_mode": {
    "name": "ipython",
    "version": 3
   },
   "file_extension": ".py",
   "mimetype": "text/x-python",
   "name": "python",
   "nbconvert_exporter": "python",
   "pygments_lexer": "ipython3",
   "version": "3.7.4"
  }
 },
 "nbformat": 4,
 "nbformat_minor": 2
}
