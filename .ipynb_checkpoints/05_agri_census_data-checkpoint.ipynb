{
 "cells": [
  {
   "cell_type": "code",
   "execution_count": null,
   "metadata": {},
   "outputs": [],
   "source": [
    "import numpy as np\n",
    "import pandas as pd\n",
    "import matplotlib.pyplot as plt\n",
    "import seaborn as sns\n",
    "%matplotlib inline\n",
    "\n",
    "AGRI_CENSUS = '../data/agri_census_finance.csv'\n",
    "\n",
    "WOH = ['DELAWARE', 'GREENE', 'SCHOHARIE', 'SULLIVAN', 'ULSTER']"
   ]
  },
  {
   "cell_type": "markdown",
   "metadata": {},
   "source": [
    "# 1 Data Cleaning"
   ]
  },
  {
   "cell_type": "code",
   "execution_count": null,
   "metadata": {},
   "outputs": [],
   "source": [
    "df = pd.read_csv(AGRI_CENSUS)\n",
    "df.columns"
   ]
  },
  {
   "cell_type": "code",
   "execution_count": null,
   "metadata": {},
   "outputs": [],
   "source": [
    "# drop columns with just one value\n",
    "num_unique = df.apply(pd.Series.nunique, axis=0)\n",
    "cols_to_drop = num_unique[num_unique==1].index\n",
    "df.drop(columns=cols_to_drop, inplace=True)\n",
    "df.columns, df.shape"
   ]
  },
  {
   "cell_type": "code",
   "execution_count": null,
   "metadata": {
    "scrolled": true
   },
   "outputs": [],
   "source": [
    "# drop columns with all null values\n",
    "col_is_null = df.isnull().all()\n",
    "cols_to_drop = col_is_null[col_is_null].index\n",
    "df.drop(columns=cols_to_drop, inplace=True)\n",
    "df.columns, df.shape"
   ]
  },
  {
   "cell_type": "code",
   "execution_count": null,
   "metadata": {},
   "outputs": [],
   "source": [
    "# drop redundant columns\n",
    "cols_to_drop = ['Ag District Code', 'County ANSI', 'CV (%)']\n",
    "df.drop(columns=cols_to_drop, inplace=True)\n",
    "df.columns, df.shape"
   ]
  },
  {
   "cell_type": "code",
   "execution_count": null,
   "metadata": {},
   "outputs": [],
   "source": [
    "df = df.sort_values(['County', 'Year']).reset_index(drop=True)\n",
    "df.head()"
   ]
  },
  {
   "cell_type": "markdown",
   "metadata": {},
   "source": [
    "# 2 Viz"
   ]
  },
  {
   "cell_type": "code",
   "execution_count": null,
   "metadata": {},
   "outputs": [],
   "source": [
    "sorted(df['Data Item'].unique())"
   ]
  },
  {
   "cell_type": "code",
   "execution_count": null,
   "metadata": {},
   "outputs": [],
   "source": [
    "def plot_census_data(subset_df):\n",
    "    # data wrangling\n",
    "    subset_df = subset_df.pivot(index='Year', columns='County', values='Value')\n",
    "    subset_df = subset_df\\\n",
    "                    .fillna(0.0)\\\n",
    "                    .apply(lambda col: (col.str.replace('[^0-9]', ''))\\\n",
    "                                           .astype('float', errors='ignore'), axis=0) # convert string to proper integers\n",
    "    subset_df.index = subset_df.index.astype('int')\n",
    "\n",
    "    # plot\n",
    "    subset_df.plot.line(marker='.', figsize=(9,5))\n",
    "    plt.xticks(subset_df.index, rotation=90) # year labelling\n",
    "    plt.xlabel('')\n",
    "    plt.legend(bbox_to_anchor=(1,1))         # legend\n",
    "    plt.grid(linestyle='--', alpha=.3)       # grid"
   ]
  },
  {
   "cell_type": "code",
   "execution_count": null,
   "metadata": {
    "scrolled": false
   },
   "outputs": [],
   "source": [
    "# for data_item in data_items:\n",
    "data_item = 'COMMODITY TOTALS - SALES, MEASURED IN $ / OPERATION'\n",
    "domain = 'TOTAL'\n",
    "subset_df = df[(df['Data Item']==data_item) \n",
    "               & (df.Domain==domain) \n",
    "               & (df.County.isin(WOH))]\n",
    "plot_census_data(subset_df)\n",
    "plt.title(data_item+'\\n(WOH Counties)')\n"
   ]
  },
  {
   "cell_type": "code",
   "execution_count": null,
   "metadata": {},
   "outputs": [],
   "source": [
    "data_item = 'CROP TOTALS - SALES, MEASURED IN $'\n",
    "domain = 'TOTAL'\n",
    "subset_df = df[(df['Data Item']==data_item) \n",
    "               & (df.Domain==domain) \n",
    "               & (df.County.isin(WOH))]\n",
    "\n",
    "plot_census_data(subset_df)\n",
    "plt.title(data_item+'\\n(WOH Counties)')\n"
   ]
  },
  {
   "cell_type": "code",
   "execution_count": null,
   "metadata": {},
   "outputs": [],
   "source": [
    "data_item = 'CROP TOTALS - SALES, MEASURED IN PCT OF FARM SALES'\n",
    "subset_df = df[(df['Data Item']==data_item)\n",
    "               & (df.County.isin(WOH))]\n",
    "plot_census_data(subset_df)\n",
    "plt.title(data_item+'\\n(WOH Counties)')"
   ]
  },
  {
   "cell_type": "code",
   "execution_count": null,
   "metadata": {
    "scrolled": false
   },
   "outputs": [],
   "source": [
    "data_item = 'INCOME, FARM-RELATED - RECEIPTS, MEASURED IN $ / OPERATION'\n",
    "subset_df = df[(df['Data Item']==data_item)\n",
    "               & (df.Domain=='TOTAL')\n",
    "               & (df.County.isin(WOH))]\n",
    "\n",
    "plot_census_data(subset_df)\n",
    "plt.title(data_item+'\\n(WOH Counties)')\n"
   ]
  },
  {
   "cell_type": "code",
   "execution_count": null,
   "metadata": {},
   "outputs": [],
   "source": [
    "# investigate ulster's sharp increase from 2012 to 2017\n",
    "ulster = df[(df.County=='ULSTER') \n",
    "   & (df['Data Item'].str.contains('INCOME'))\n",
    "   & (df.Domain=='TOTAL')]\\\n",
    "    .pivot(index='Year', columns='Data Item', values='Value')\\\n",
    "    .apply(lambda col: (col.str.replace('[^0-9]', ''))\\\n",
    "                               .replace('', np.nan)\\\n",
    "                               .fillna(0)\\\n",
    "                               .astype('float', errors='ignore'), axis=0)\n",
    "\n",
    "ulster.plot()\n",
    "plt.xticks(ulster.index)\n",
    "legend_labels = ulster.columns.str.replace('INCOME, FARM-RELATED, ', '')\\\n",
    "                    .str.replace('INCOME, FARM-RELATED - ', '')\n",
    "plt.legend(labels=legend_labels, bbox_to_anchor=(1,1))\n",
    "plt.title('Ulster County: INCOME, FARM-RELATED Data')"
   ]
  }
 ],
 "metadata": {
  "kernelspec": {
   "display_name": "Python 3",
   "language": "python",
   "name": "python3"
  },
  "language_info": {
   "codemirror_mode": {
    "name": "ipython",
    "version": 3
   },
   "file_extension": ".py",
   "mimetype": "text/x-python",
   "name": "python",
   "nbconvert_exporter": "python",
   "pygments_lexer": "ipython3",
   "version": "3.7.4"
  }
 },
 "nbformat": 4,
 "nbformat_minor": 2
}
