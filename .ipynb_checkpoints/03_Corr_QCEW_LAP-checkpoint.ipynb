{
 "cells": [
  {
   "cell_type": "code",
   "execution_count": null,
   "metadata": {},
   "outputs": [],
   "source": [
    "import numpy as np\n",
    "import pandas as pd\n",
    "import seaborn as sns\n",
    "import matplotlib.pyplot as plt\n",
    "%matplotlib inline \n",
    "\n",
    "# input files\n",
    "QCEW_FILEPATH = '../data/QCEW_2000-2018_cleaned_naics_sectors.csv'\n",
    "LAP_COUNTS_FILEPATH = '../data/LAP_annual_counts.csv'\n",
    "LAP_ACRES_FILEPATH = '../data/LAP_annual_acres.csv'\n",
    "LAP_ACRES_NORM_FILEPATH = '../data/LAP_annual_acres_normalized.csv'\n",
    "\n",
    "# constants\n",
    "WOH_COUNTIES = ['Delaware', 'Greene', 'Schoharie', 'Sullivan', 'Ulster']\n",
    "EOH_COUNTIES = ['Dutchess', 'Putnam', 'Westchester']\n",
    "METRICS = ['Real Total Salary', 'Real Average Salary', 'Average Employment', 'Establishments']\n",
    "TOTAL_INDUSTRIES = ['Total, All Industries', 'Total, All Private', 'Total, All Government']"
   ]
  },
  {
   "cell_type": "code",
   "execution_count": null,
   "metadata": {},
   "outputs": [],
   "source": [
    "qcew = pd.read_csv(QCEW_FILEPATH, index_col=0)\n",
    "qcew.head()"
   ]
  },
  {
   "cell_type": "code",
   "execution_count": null,
   "metadata": {},
   "outputs": [],
   "source": [
    "# load LAP Acres\n",
    "lap_acres = pd.read_csv(LAP_ACRES_FILEPATH, index_col=0)\n",
    "lap_acres.head()"
   ]
  },
  {
   "cell_type": "code",
   "execution_count": null,
   "metadata": {},
   "outputs": [],
   "source": [
    "# years avail for our datasets\n",
    "print('years avail for qcew:', qcew.Year.min(), '-', qcew.Year.max())\n",
    "print('years avail for lap:', lap_acres.index.min(), '-', lap_acres.index.max())\n",
    "common_years = set(qcew.Year).intersection(set(lap_acres.index))\n",
    "print('common years:', common_years)"
   ]
  },
  {
   "cell_type": "code",
   "execution_count": null,
   "metadata": {},
   "outputs": [],
   "source": [
    "# truncate datasets to common years ie 2000-2018\n",
    "lap_acres = lap_acres[lap_acres.index.isin(common_years)]\n",
    "qcew = qcew[qcew.Year.isin(common_years)]"
   ]
  },
  {
   "cell_type": "markdown",
   "metadata": {},
   "source": [
    "# Plot correlation of all industries for each metric"
   ]
  },
  {
   "cell_type": "code",
   "execution_count": null,
   "metadata": {},
   "outputs": [],
   "source": [
    "# plot only industries with non-null values\n",
    "corr_data = []\n",
    "industries = qcew['NAICS Title'].unique()\n",
    "        \n",
    "for industry in industries:\n",
    "    for category in METRICS:\n",
    "        # row = year, column = WOH, value = specific industry and metric \n",
    "        subset = qcew[(qcew['NAICS Title']==industry) \n",
    "                      & qcew.index.isin(lap_acres.columns)]\n",
    "        qcew_f = subset.pivot_table(index='Year', \n",
    "                                    columns='County', \n",
    "                                    values=category)\n",
    "        if qcew_f.isnull().any().any(): # discard this industry for this metric if there are null values\n",
    "            continue\n",
    "        \n",
    "        # calc corr with acres acquired (normalized by county area)\n",
    "        correlations = qcew_f.corrwith(lap_acres).tolist()\n",
    "        entry = {cty: correlations[i] for i, cty in enumerate(qcew_f.columns)}\n",
    "        entry.update({'industry': industry,\n",
    "                      'metric': category})\n",
    "        corr_data.append(entry)\n",
    "        \n",
    "correlations = pd.DataFrame(corr_data)\n",
    "correlations.head()"
   ]
  },
  {
   "cell_type": "markdown",
   "metadata": {},
   "source": [
    "### => Export correlations as json for viz"
   ]
  },
  {
   "cell_type": "code",
   "execution_count": null,
   "metadata": {},
   "outputs": [],
   "source": [
    "import json\n",
    "with open('../output/woh_corr_4.json', 'r') as f:\n",
    "    data = json.load(f)"
   ]
  },
  {
   "cell_type": "code",
   "execution_count": null,
   "metadata": {},
   "outputs": [],
   "source": [
    "lap_acres.index = lap_acres.index.astype('int')"
   ]
  },
  {
   "cell_type": "code",
   "execution_count": null,
   "metadata": {
    "scrolled": true
   },
   "outputs": [],
   "source": [
    "# update json: # metric, landuse, county, {industry: corr_val}\n",
    "for metric in METRICS: \n",
    "    data[metric]['All Landuse Types'] = {}\n",
    "    for county in WOH_COUNTIES + EOH_COUNTIES:\n",
    "        # compute correlations\n",
    "        industry_data = qcew[(qcew.index==county)].pivot(index='Year', \n",
    "                                                         columns='NAICS Title', \n",
    "                                                         values=metric)\n",
    "        industry_data = industry_data.dropna(axis='columns', how='any')\n",
    "        industry_data = industry_data.join(lap_acres[county].to_frame('acres'))\n",
    "        corr = industry_data.corr().iloc[-1, :-1].to_dict()\n",
    "        \n",
    "        # add corr data\n",
    "        if county not in data[metric]['All Landuse Types']:\n",
    "            data[metric]['All Landuse Types'][county] = {}\n",
    "        data[metric]['All Landuse Types'][county] = corr"
   ]
  },
  {
   "cell_type": "code",
   "execution_count": null,
   "metadata": {},
   "outputs": [],
   "source": [
    "for item in [data.keys(), \n",
    "             data['Real Average Salary'].keys(), \n",
    "             data['Real Average Salary']['All Landuse Types'].keys(),\n",
    "             data['Real Average Salary']['All Landuse Types']['Putnam'].keys()]:\n",
    "    print(item)\n",
    "    print()"
   ]
  },
  {
   "cell_type": "code",
   "execution_count": null,
   "metadata": {},
   "outputs": [],
   "source": [
    "with open('../output/corr_4.json', 'w') as f:\n",
    "    json.dump(data, f)\n"
   ]
  },
  {
   "cell_type": "code",
   "execution_count": null,
   "metadata": {},
   "outputs": [],
   "source": [
    "pc_area = {\n",
    "    'Delaware': .57,\n",
    "    'Greene': .47,\n",
    "    'Schoharie': .09,\n",
    "    'Sullivan': .07,\n",
    "    'Ulster': .31,\n",
    "    'Dutchess': .04,\n",
    "    'Putnam': .59,\n",
    "    'Westchester': .38\n",
    "}\n",
    "\n",
    "sorted_counties = [k for k, v in sorted(pc_area.items(), key=lambda item: item[1])]\n",
    "sorted_woh = list(filter(lambda c: c in WOH_COUNTIES, sorted_counties))\n",
    "sorted_eoh = list(filter(lambda c: c in EOH_COUNTIES, sorted_counties))"
   ]
  },
  {
   "cell_type": "code",
   "execution_count": null,
   "metadata": {
    "scrolled": false
   },
   "outputs": [],
   "source": [
    "# plot only industries with non-null values\n",
    "for metric in METRICS:\n",
    "    qcew_corr = correlations[correlations.metric==metric]\\\n",
    "                .set_index('industry')[sorted_woh+sorted_eoh]\n",
    "#     qcew_corr = pd.concat([qcew_corr.sort_index().drop(index=TOTAL_INDUSTRIES), qcew_corr.loc[TOTAL_INDUSTRIES]])\n",
    "    \n",
    "    _, ax = plt.subplots(figsize=(11,8))\n",
    "    sns.heatmap(qcew_corr,\n",
    "                ax=ax,\n",
    "                vmin=-1,vmax=1,\n",
    "                center=0, \n",
    "                cmap=sns.diverging_palette(10, 145, sep=40, as_cmap=True),\n",
    "                annot=True)\n",
    "    ax.set_ylabel('')\n",
    "    ax.set_title('%s (2000-2018)'%metric, pad=30)\n",
    "    ax.tick_params(labeltop=True, bottom=False)"
   ]
  },
  {
   "cell_type": "code",
   "execution_count": null,
   "metadata": {},
   "outputs": [],
   "source": [
    "labels = {}\n",
    "for k, v in pc_area.items():\n",
    "    soh = 'WOH' if k in WOH_COUNTIES else 'EOH'\n",
    "    labels[k] = f\"{soh}\\n{k}\\n{int(v*100)}%\""
   ]
  },
  {
   "cell_type": "code",
   "execution_count": null,
   "metadata": {
    "scrolled": false
   },
   "outputs": [],
   "source": [
    "# viz: sort according to value\n",
    "for i, metric in enumerate(METRICS):\n",
    "    metric_df = correlations[(correlations.metric==metric) \n",
    "                             & ~(correlations.industry.isin(TOTAL_INDUSTRIES))]\\\n",
    "                    [sorted_counties]\n",
    "    sorted_vals = {}\n",
    "    for county in metric_df.columns:\n",
    "        sorted_vals[county] = sorted(metric_df[county].tolist())\n",
    "\n",
    "    _, ax = plt.subplots(figsize=(10,8))\n",
    "    sns.heatmap(pd.DataFrame(sorted_vals)[::-1],\n",
    "                ax=ax,\n",
    "                vmin=-1,vmax=1,\n",
    "                center=0, \n",
    "                cmap=sns.diverging_palette(10, 145, sep=40, n=10),\n",
    "                annot=True)\n",
    "    ax.set_ylabel('')\n",
    "    ax.set_xticklabels([labels[c] for c in sorted_counties])\n",
    "    ax.set_title('%s (sorted values)'%metric, pad=30)\n",
    "    ax.tick_params(labeltop=True, bottom=False)"
   ]
  },
  {
   "cell_type": "code",
   "execution_count": null,
   "metadata": {},
   "outputs": [],
   "source": [
    "for metric in METRICS:\n",
    "    print('===== %s ====='%metric)\n",
    "    print('==> Max correlations:')\n",
    "    print(correlations[(correlations.metric==metric) \n",
    "                       & ~(correlations.industry.isin(TOTAL_INDUSTRIES))]\\\n",
    "              .set_index('industry')[WOH_COUNTIES+EOH_COUNTIES].idxmax())\n",
    "    print('\\n')\n",
    "    print('==> Min correlations:')\n",
    "    print(correlations[(correlations.metric==metric) \n",
    "                       & ~(correlations.industry.isin(TOTAL_INDUSTRIES))]\\\n",
    "              .set_index('industry')[WOH_COUNTIES+EOH_COUNTIES].idxmin())\n",
    "    print('\\n\\n')"
   ]
  },
  {
   "cell_type": "markdown",
   "metadata": {},
   "source": [
    "# Plot trendlines for select EOH counties/industries"
   ]
  },
  {
   "cell_type": "code",
   "execution_count": null,
   "metadata": {},
   "outputs": [],
   "source": [
    "requests = [{'metric': 'Real Average Salary',\n",
    "             'county': 'Westchester',\n",
    "             'industry': 'Arts, Entertainment, and Recreation'\n",
    "            },\n",
    "            {'metric': 'Real Average Salary',\n",
    "             'county': 'Putnam',\n",
    "             'industry': 'Other Services, Ex. Public Admin'\n",
    "            },\n",
    "            {'metric': 'Average Employment',\n",
    "             'county': 'Putnam',\n",
    "             'industry': 'Information'\n",
    "            },\n",
    "            {'metric': 'Average Employment',\n",
    "             'county': 'Putnam',\n",
    "             'industry': 'Health Care and Social Assistance'\n",
    "            },\n",
    "            {'metric': 'Establishments',\n",
    "             'county': 'Dutchess',\n",
    "             'industry': 'Finance and Insurance'\n",
    "            },\n",
    "            {'metric': 'Establishments',\n",
    "             'county': 'Putnam',\n",
    "             'industry': 'Professional and Technical Services'\n",
    "            }]"
   ]
  },
  {
   "cell_type": "code",
   "execution_count": null,
   "metadata": {},
   "outputs": [],
   "source": [
    "# plot trends for specific correlations\n",
    "from sklearn.preprocessing import MinMaxScaler\n",
    "from matplotlib.lines import Line2D\n",
    "\n",
    "scaler = MinMaxScaler()\n",
    "\n",
    "for req in requests:\n",
    "    metric = req['metric']\n",
    "    county = req['county']\n",
    "    industry = req['industry']\n",
    "\n",
    "    ### data wrangling\n",
    "    # lap data\n",
    "    subset = lap_acres[[county]].rename(columns={county: 'All Lands'})\n",
    "\n",
    "    # add economic data to it\n",
    "    subset = subset.join(qcew[(qcew.index==county) \n",
    "                       & (qcew['NAICS Title']==industry)]\\\n",
    "                    .set_index('Year')[[metric]])\n",
    "\n",
    "    # min max scale the data\n",
    "    subset = pd.DataFrame(scaler.fit_transform(subset), \n",
    "                          columns=subset.columns,\n",
    "                          index=subset.index)\n",
    "    labels = ['%s (%.2f)'%pair for pair in subset.corr().iloc[-1, :-1].items()]\n",
    "    labels.append(metric)\n",
    "\n",
    "    ### plotting\n",
    "    # plot lap acres\n",
    "    title = 'Metric: %s\\nCounty: %s\\nIndustry: %s'%(metric, county, industry)\n",
    "    ax = subset.iloc[:, :-1].plot(figsize=(12,3),\n",
    "                                  title=title, \n",
    "                                  color='tab:purple'\n",
    "                                 )\n",
    "    # plot economic metric\n",
    "    subset[metric].plot(ax=ax, linewidth=4, color='sienna')\n",
    "\n",
    "    plt.legend(labels=labels,\n",
    "               bbox_to_anchor=(1,1))\n",
    "    plt.xlabel('Year')\n",
    "    plt.grid(True)"
   ]
  }
 ],
 "metadata": {
  "kernelspec": {
   "display_name": "Python 3",
   "language": "python",
   "name": "python3"
  },
  "language_info": {
   "codemirror_mode": {
    "name": "ipython",
    "version": 3
   },
   "file_extension": ".py",
   "mimetype": "text/x-python",
   "name": "python",
   "nbconvert_exporter": "python",
   "pygments_lexer": "ipython3",
   "version": "3.7.4"
  }
 },
 "nbformat": 4,
 "nbformat_minor": 2
}
