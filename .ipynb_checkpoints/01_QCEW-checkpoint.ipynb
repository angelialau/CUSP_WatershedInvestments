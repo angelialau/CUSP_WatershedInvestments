{
 "cells": [
  {
   "cell_type": "markdown",
   "metadata": {},
   "source": [
    "This notebook explores the two **Quarterly Census of Employment and Wages Annual Data** datasets from NYS Open Data\n",
    "* 1975-2000: https://data.ny.gov/Economic-Development/Quarterly-Census-of-Employment-and-Wages-Annual-Da/shc7-xcbw\n",
    "* 2000-2018: https://data.ny.gov/Economic-Development/Quarterly-Census-of-Employment-and-Wages-QCEW-Hist/ej35-turb\n",
    "\n",
    "The difference is that the pre-2000 dataset uses SIC codes to classify industries, whereas the post 2000 dataset uses NAICS codes. I propose that we use just data from 2000 onwards since the conversion between SIC codes to NAICS codes is not straightforward. And perhaps we can try to find some ACS information to supplement the 1997-2000 gap. \n",
    "\n",
    "Inflation data: **CPI for All Urban Consumers (CPI-U)** from the US Bureau of Labor Statistics\n",
    "* Source: https://data.bls.gov/PDQWeb/cu\n",
    "* Metadata:\n",
    "    * Series Id:     CUURS12ASA0,CUUSS12ASA0\n",
    "    * Not Seasonally Adjusted\n",
    "    * Series Title:  All items in New York-Newark-Jersey City, NY-NJ-PA, all urban consumers, not seasonally adjusted\n",
    "    * Area:          New York-Newark-Jersey City, NY-NJ-PA\n",
    "    * Item:          All items\n",
    "    * Base Period:   1982-84=100\n",
    "    \n",
    "Instructions on calculating real wages: https://www.cpwr.com/sites/default/files/annex_how_to_calculate_the_real_wages.pdf\n",
    "\n",
    "Done by: Angelia"
   ]
  },
  {
   "cell_type": "code",
   "execution_count": null,
   "metadata": {},
   "outputs": [],
   "source": [
    "import pandas as pd\n",
    "import matplotlib.pyplot as plt\n",
    "from matplotlib.lines import Line2D\n",
    "%matplotlib inline\n",
    "\n",
    "# file paths\n",
    "ORI_QCEW_FILEPATH = '../data/QCEW_2000-2018.csv'\n",
    "CLEANED_QCEW_SELECTED_IND_FILEPATH = '../data/QCEW_2000-2018_cleaned_selected_ind.csv'\n",
    "CLEANED_QCEW_NAICS_SECTORS_FILEPATH = '../data/QCEW_2000-2018_cleaned_naics_sectors.csv'\n",
    "NAICS_MAPPING_FILEPATH = '../data/QCEW_NAICS_mapping.csv'\n",
    "NAICS_SECTOR_CODES_FILEPATH = '../data/naics_sector_codes.csv'\n",
    "SELECTED_INDUSTRIES_FILEPATH = '../data/QCEW_potential_industries.csv'\n",
    "WOH_OUT_FILEPATH = '../data/WOH_with_state_QCEW_and_adjusted.csv'\n",
    "INFLATION_FILEPATH = '../data/CPI-for-All-Urban-Consumers_NY-NJ-PA_1997-2019.csv'\n",
    "\n",
    "# constants\n",
    "WOH_COUNTIES = ['Delaware', 'Greene', 'Schoharie',\n",
    "                'Sullivan', 'Ulster']\n",
    "EOH_COUNTIES = ['Dutchess', 'Putnam', 'Westchester']\n",
    "NYC_COUNTIES = ['New York', 'Richmond', 'Kings',\n",
    "                'Bronx', 'Queens']\n",
    "METRICS = ['Real Average Salary', 'Real Total Salary', 'Average Employment', 'Establishments']"
   ]
  },
  {
   "cell_type": "code",
   "execution_count": null,
   "metadata": {},
   "outputs": [],
   "source": [
    "# get NAICS-Sectors only, per https://www.bls.gov/cew/classifications/industry/industry-supersectors.htm\n",
    "qcew = pd.read_csv(ORI_QCEW_FILEPATH, index_col=0)\n",
    "qcew['NAICS'] = qcew.NAICS.astype('str')\n",
    "qcew.NAICS.nunique()"
   ]
  },
  {
   "cell_type": "code",
   "execution_count": null,
   "metadata": {},
   "outputs": [],
   "source": [
    "qcew.head()"
   ]
  },
  {
   "cell_type": "markdown",
   "metadata": {},
   "source": [
    "#### Different selections of NAICS codes"
   ]
  },
  {
   "cell_type": "code",
   "execution_count": null,
   "metadata": {},
   "outputs": [],
   "source": [
    "# output to csv the naics sector codes, \n",
    "# as defined under QCEW High-Level Industry Crosswalk\n",
    "# from https://www.bls.gov/cew/classifications/industry/industry-supersectors.htm\n",
    "naics_sectors = [x for x in qcew.NAICS.unique() if len(x)<=2]\n",
    "qcew[(qcew.NAICS.isin(naics_sectors)) & (qcew['Area Type']=='County')]\\\n",
    "    [['NAICS', 'NAICS Title']]\\\n",
    "    .drop_duplicates()\\\n",
    "    .set_index('NAICS')\\\n",
    "    .to_csv(NAICS_SECTOR_CODES_FILEPATH)"
   ]
  },
  {
   "cell_type": "code",
   "execution_count": null,
   "metadata": {
    "scrolled": true
   },
   "outputs": [],
   "source": [
    "# output the mapping between NAICS code and associated title\n",
    "qcew[qcew['Area Type']=='County'][['NAICS', 'NAICS Title']]\\\n",
    "    .drop_duplicates()\\\n",
    "    .set_index('NAICS')\\\n",
    "    .to_csv(NAICS_MAPPING_FILEPATH)"
   ]
  },
  {
   "cell_type": "markdown",
   "metadata": {},
   "source": [
    "#### Reading the data"
   ]
  },
  {
   "cell_type": "code",
   "execution_count": null,
   "metadata": {},
   "outputs": [],
   "source": [
    "# reading datasets\n",
    "selected_ind = pd.read_csv(SELECTED_INDUSTRIES_FILEPATH, index_col='NAICS') # manually selected industries\n",
    "naics_sectors = pd.read_csv(NAICS_SECTOR_CODES_FILEPATH, index_col='NAICS') # naics sectors ie codes that are 2-digit\n",
    "inflation = pd.read_csv(INFLATION_FILEPATH, index_col='year')\n",
    "qcew = pd.read_csv(ORI_QCEW_FILEPATH, index_col=0)"
   ]
  },
  {
   "cell_type": "markdown",
   "metadata": {},
   "source": [
    "# 1. Adjust salary metrics with CPI"
   ]
  },
  {
   "cell_type": "code",
   "execution_count": null,
   "metadata": {},
   "outputs": [],
   "source": [
    "### filter data before data transformation, to reduce number of computations\n",
    "# different filters: seleected_ind or naics_sectors\n",
    "qcew = qcew[(qcew.NAICS.isin(naics_sectors.index)) \n",
    "            & (qcew['Area Type']=='County')] "
   ]
  },
  {
   "cell_type": "code",
   "execution_count": null,
   "metadata": {
    "scrolled": true
   },
   "outputs": [],
   "source": [
    "# adjust avg salary\n",
    "qcew = qcew.merge(inflation, left_on='Year', right_index=True) # add cpi info\n",
    "latest_cpi = inflation[inflation.index==qcew.Year.max()].cpi.tolist()[0]\n",
    "qcew['Real Average Salary'] = qcew.apply(lambda row: (row['Annual Average Salary']*latest_cpi)/row.cpi, \n",
    "                                         axis=1)\n",
    "qcew['Real Total Salary'] = qcew.apply(lambda row: (row['Total Wage']*latest_cpi)/row.cpi, \n",
    "                                         axis=1)\n",
    "qcew.head(3)"
   ]
  },
  {
   "cell_type": "code",
   "execution_count": null,
   "metadata": {},
   "outputs": [],
   "source": [
    "# format df and save as csv\n",
    "qcew_cleaned = qcew.drop(columns='Area Type')\n",
    "qcew_cleaned = qcew_cleaned.rename(columns={'Area': 'County', 'cpi': 'CPI'})\n",
    "qcew_cleaned['County'] = qcew_cleaned.County.str.replace(' County', '')\n",
    "qcew_cleaned = qcew_cleaned.set_index('County')\n",
    "qcew_cleaned.head(3)"
   ]
  },
  {
   "cell_type": "code",
   "execution_count": null,
   "metadata": {},
   "outputs": [],
   "source": [
    "qcew_cleaned.to_csv(CLEANED_QCEW_NAICS_SECTORS_FILEPATH)\n",
    "# qcew_cleaned.to_csv(CLEANED_QCEW_SELECTED_IND_FILEPATH)"
   ]
  },
  {
   "cell_type": "markdown",
   "metadata": {},
   "source": [
    "# 2. Analyzing the 2000-2018 dataset"
   ]
  },
  {
   "cell_type": "code",
   "execution_count": null,
   "metadata": {},
   "outputs": [],
   "source": [
    "qcew = pd.read_csv(CLEANED_QCEW_NAICS_SECTORS_FILEPATH)\n",
    "qcew.head(3)"
   ]
  },
  {
   "cell_type": "code",
   "execution_count": null,
   "metadata": {},
   "outputs": [],
   "source": [
    "REGION_CMAP = {\n",
    "    'EOH Counties': 'teal',\n",
    "    'WOH Counties': 'orange', \n",
    "    'NYC Counties': 'purple', \n",
    "    'Other Counties': 'lightgrey',\n",
    "    'State Average': 'salmon',\n",
    "    'State Median': 'deepskyblue'\n",
    "}\n",
    "STATE_AVG = 'State Average'\n",
    "STATE_MEDIAN = 'State Median'"
   ]
  },
  {
   "cell_type": "code",
   "execution_count": null,
   "metadata": {
    "scrolled": true
   },
   "outputs": [],
   "source": [
    "# plot Real Avg Salary across 'Total, All Industries', for all counties\n",
    "temp = qcew[qcew['NAICS Title']=='Total, All Industries']\\\n",
    "    .pivot(index='Year',\n",
    "           columns='County',\n",
    "           values='Real Average Salary')\n",
    "temp[STATE_MEDIAN] = temp.median(axis=1)\n",
    "\n",
    "# plot lines\n",
    "_, ax = plt.subplots(figsize=(8,5))\n",
    "temp.plot(ax=ax, color=REGION_CMAP['Other Counties'])\n",
    "temp[STATE_MEDIAN].plot(ax=ax, color=REGION_CMAP[STATE_MEDIAN], \n",
    "                           linewidth=3, linestyle='--')\n",
    "temp[NYC_COUNTIES].plot(ax=ax, color=REGION_CMAP['NYC Counties'])\n",
    "temp[WOH_COUNTIES].plot(ax=ax, color=REGION_CMAP['WOH Counties'])\n",
    "temp[EOH_COUNTIES].plot(ax=ax, color=REGION_CMAP['EOH Counties'])\n",
    "\n",
    "# custom legend\n",
    "legend_order = ['WOH Counties', 'EOH Counties', 'NYC Counties', 'Other Counties']\n",
    "custom_lines = [Line2D([0], [0], color=REGION_CMAP[x], lw=2) for x in legend_order] + \\\n",
    "    [Line2D([0], [0], color=REGION_CMAP[STATE_MEDIAN], linewidth=5, linestyle='--')]\n",
    "\n",
    "ax.legend(custom_lines, legend_order+[STATE_MEDIAN], bbox_to_anchor=(1, 1))\n",
    "plt.ylabel('Real Average Salary')\n",
    "_ = plt.title('Real Annual Average Salary for All Industries')"
   ]
  },
  {
   "cell_type": "code",
   "execution_count": null,
   "metadata": {
    "scrolled": true
   },
   "outputs": [],
   "source": [
    "qcew = pd.read_csv(CLEANED_QCEW_SELECTED_IND_FILEPATH)\n",
    "\n",
    "# plot all industries for Delaware County\n",
    "ind_to_keep = ['Accommodation', 'Agriculture, Forestry, Fishing and Hunting', \n",
    "               'Construction', 'Waste Management and Remediation Service']\n",
    "temp = qcew[qcew.County=='Delaware']\\\n",
    "    .pivot_table(index='Year',\n",
    "           columns='NAICS Title',\n",
    "           values='Real Average Salary')\\\n",
    "    .dropna(axis=1)\n",
    "temp = temp.loc[:, (temp.iloc[-1] - temp.iloc[0])>=0]\n",
    "ax = temp.plot(cmap='tab20', \n",
    "          title='Adjusted Avg Salary for Select Industries (Delaware County)')\n",
    "ax.legend(bbox_to_anchor=(1,1))\n",
    "ax.set_ylabel('Adjusted Avg Salary')"
   ]
  },
  {
   "cell_type": "code",
   "execution_count": null,
   "metadata": {},
   "outputs": [],
   "source": [
    "# investigate Healthcare sector since it appears to increase in \n",
    "# real total salary across all the counties\n",
    "hc = qcew[qcew['NAICS Title'] == 'Health Care and Social Assistance']\n",
    "hc.head(2)"
   ]
  },
  {
   "cell_type": "code",
   "execution_count": null,
   "metadata": {},
   "outputs": [],
   "source": [
    "for metric in METRICS:\n",
    "    hc.pivot_table(index='Year',\n",
    "                   columns='County', \n",
    "                   values=metric)\\\n",
    "        [EOH_COUNTIES+WOH_COUNTIES]\\\n",
    "        .plot()\n",
    "    plt.legend(bbox_to_anchor=(1,1))\n",
    "    plt.title(metric)"
   ]
  },
  {
   "cell_type": "code",
   "execution_count": null,
   "metadata": {},
   "outputs": [],
   "source": [
    "metric = 'Real Average Salary'\n",
    "hc_ras = hc.pivot_table(index='Year',\n",
    "               columns='County', \n",
    "               values=metric)\\\n",
    "        [EOH_COUNTIES+WOH_COUNTIES]\n",
    "hc_ras.plot()\n",
    "plt.legend(bbox_to_anchor=(1,1))\n",
    "plt.title(metric)\n",
    "for starting_salary in hc_ras.iloc[0,:].tolist():\n",
    "    plt.axhline(starting_salary, color='lightgrey')"
   ]
  },
  {
   "cell_type": "code",
   "execution_count": null,
   "metadata": {
    "scrolled": true
   },
   "outputs": [],
   "source": [
    "from sklearn.preprocessing import MinMaxScaler\n",
    "scaler = MinMaxScaler()\n",
    "\n",
    "metric = 'Real Average Salary'\n",
    "hc_ras = hc.pivot_table(index='Year',\n",
    "               columns='County', \n",
    "               values=metric)\n",
    "hc_ras = pd.DataFrame(scaler.fit_transform(hc_ras.values), \n",
    "                      index=hc_ras.index, \n",
    "                      columns=hc_ras.columns)\n",
    "# hc_ras.values\n",
    "hc_ras.plot(legend=False)\n",
    "plt.title(metric + ' (All Counties)')"
   ]
  },
  {
   "cell_type": "markdown",
   "metadata": {},
   "source": [
    "## Distribution by industries"
   ]
  },
  {
   "cell_type": "code",
   "execution_count": null,
   "metadata": {},
   "outputs": [],
   "source": [
    "qcew = pd.read_csv(CLEANED_QCEW_NAICS_SECTORS_FILEPATH)\n",
    "qcew.columns"
   ]
  },
  {
   "cell_type": "code",
   "execution_count": null,
   "metadata": {},
   "outputs": [],
   "source": [
    "# example: woh counties, of year 2018\n",
    "\n",
    "# distribution of avg employment per industry\n",
    "emp_dist = qcew[(qcew.Year==2018) \n",
    "     & (qcew.County.isin(WOH_COUNTIES))\n",
    "     & ~(qcew.NAICS.isin([0,1,95]))]\\\n",
    "    .pivot_table(columns='NAICS Title', \n",
    "                 index='County', \n",
    "                 values='Average Employment')\n",
    "emp_dist = emp_dist.div(emp_dist.sum(axis=1), axis=0) # transform to percentages\n",
    "\n",
    "# compute state average\n",
    "emp_dist_state_avg = qcew[(qcew.Year==2018) \n",
    "     & ~(qcew.NAICS.isin([0,1,95]))]\\\n",
    "    .pivot_table(columns='NAICS Title', \n",
    "                 index='County', \n",
    "                 values='Average Employment')\\\n",
    "    .mean()\n",
    "\n",
    "# add state average to woh-only df\n",
    "emp_dist = pd.concat([emp_dist,\n",
    "          emp_dist_state_avg.div(emp_dist_state_avg.sum(), axis=0)\\\n",
    "            .to_frame('State Avg')\\\n",
    "            .transpose()])\n",
    "\n",
    "# plot\n",
    "emp_dist.plot.bar(stacked=True,\n",
    "                  cmap='tab20',\n",
    "                  title='Percent Average Employment by Industry (2018)\\nWOH Counties')\n",
    "_ = plt.legend(bbox_to_anchor=(1,1))"
   ]
  },
  {
   "cell_type": "code",
   "execution_count": null,
   "metadata": {
    "scrolled": false
   },
   "outputs": [],
   "source": [
    "_, axes = plt.subplots(len(WOH_COUNTIES), sharex=True, figsize=(5,10))\n",
    "for i, county in enumerate(WOH_COUNTIES):\n",
    "    county_df = qcew[(qcew.County==county)\n",
    "                    & ~(qcew.NAICS.isin([0,1,95]))]\\\n",
    "        .pivot_table(index='Year',\n",
    "                     columns='NAICS Title',\n",
    "                     values='Average Employment')\n",
    "\n",
    "    # plot\n",
    "    county_df.plot.bar(ax=axes[i],\n",
    "                       stacked=True,\n",
    "                       cmap='tab20',\n",
    "                       title=county,\n",
    "                       legend=False,\n",
    "                      )\n",
    "axes[0].legend(bbox_to_anchor=(1,1))\n",
    "plt.suptitle('Average Employment (2000-2018)')\n",
    "plt.subplots_adjust(hspace=.3, top=.93)"
   ]
  },
  {
   "cell_type": "code",
   "execution_count": null,
   "metadata": {},
   "outputs": [],
   "source": [
    "_, axes = plt.subplots(len(WOH_COUNTIES), sharex=True, figsize=(5,10))\n",
    "for i, county in enumerate(WOH_COUNTIES):\n",
    "    county_df = qcew[(qcew.County==county)\n",
    "                    & ~(qcew.NAICS.isin([0,1,95]))]\\\n",
    "        .pivot_table(index='Year',\n",
    "                     columns='NAICS Title',\n",
    "                     values='Real Average Salary')\n",
    "\n",
    "    # plot\n",
    "    county_df.plot.bar(ax=axes[i],\n",
    "                       stacked=True,\n",
    "                       cmap='tab20',\n",
    "                       title=county,\n",
    "                       legend=False,\n",
    "                      )\n",
    "axes[0].legend(bbox_to_anchor=(1,1))\n",
    "plt.suptitle('Real Average Salary (2000-2018)')\n",
    "plt.subplots_adjust(hspace=.3, top=.93)"
   ]
  },
  {
   "cell_type": "markdown",
   "metadata": {},
   "source": [
    "# Export as json"
   ]
  },
  {
   "cell_type": "code",
   "execution_count": null,
   "metadata": {},
   "outputs": [],
   "source": [
    "QCEW_FILEPATH = '../data/QCEW_2000-2018_cleaned_naics_sectors.csv'\n",
    "METRICS = ['Real Average Salary', 'Average Employment', 'Establishments']\n",
    "df = pd.read_csv(QCEW_FILEPATH)\n",
    "df.head()"
   ]
  },
  {
   "cell_type": "code",
   "execution_count": null,
   "metadata": {},
   "outputs": [],
   "source": [
    "data = {}\n",
    "for metric in METRICS: \n",
    "    data[metric] = {}\n",
    "    for county in WOH_COUNTIES+EOH_COUNTIES:\n",
    "        data[metric][county] = {}\n",
    "        for industry in df['NAICS Title'].unique():\n",
    "            data[metric][county][industry] = df[(df.County==county)\n",
    "                                                &(df['NAICS Title']==industry)]\\\n",
    "                                                    .set_index('Year')[metric]\\\n",
    "                                                    .to_dict()"
   ]
  },
  {
   "cell_type": "code",
   "execution_count": null,
   "metadata": {},
   "outputs": [],
   "source": [
    "import json\n",
    "with open('../output/qcew.json', 'w') as f:\n",
    "    json.dump(data, f)"
   ]
  }
 ],
 "metadata": {
  "kernelspec": {
   "display_name": "Python 3",
   "language": "python",
   "name": "python3"
  },
  "language_info": {
   "codemirror_mode": {
    "name": "ipython",
    "version": 3
   },
   "file_extension": ".py",
   "mimetype": "text/x-python",
   "name": "python",
   "nbconvert_exporter": "python",
   "pygments_lexer": "ipython3",
   "version": "3.7.4"
  }
 },
 "nbformat": 4,
 "nbformat_minor": 2
}
