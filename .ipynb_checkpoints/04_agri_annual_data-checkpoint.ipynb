{
 "cells": [
  {
   "cell_type": "code",
   "execution_count": null,
   "metadata": {},
   "outputs": [],
   "source": [
    "import numpy as np\n",
    "import pandas as pd\n",
    "import matplotlib.pyplot as plt\n",
    "import seaborn as sns\n",
    "%matplotlib inline\n",
    "\n",
    "AGRI_WOH = '../data/agri_woh.csv'"
   ]
  },
  {
   "cell_type": "markdown",
   "metadata": {},
   "source": [
    "# 1 Data Cleaning"
   ]
  },
  {
   "cell_type": "code",
   "execution_count": null,
   "metadata": {},
   "outputs": [],
   "source": [
    "woh = pd.read_csv(AGRI_WOH)\n",
    "woh.columns"
   ]
  },
  {
   "cell_type": "code",
   "execution_count": null,
   "metadata": {},
   "outputs": [],
   "source": [
    "# drop columns with just one value\n",
    "num_unique = woh.apply(pd.Series.nunique, axis=0)\n",
    "cols_to_drop = num_unique[num_unique==1].index\n",
    "woh.drop(columns=cols_to_drop, inplace=True)\n",
    "woh.columns"
   ]
  },
  {
   "cell_type": "code",
   "execution_count": null,
   "metadata": {
    "scrolled": true
   },
   "outputs": [],
   "source": [
    "# drop columns with all null values\n",
    "col_is_null = woh.isnull().all()\n",
    "cols_to_drop = col_is_null[col_is_null].index\n",
    "woh.drop(columns=cols_to_drop, inplace=True)\n",
    "woh.columns"
   ]
  },
  {
   "cell_type": "code",
   "execution_count": null,
   "metadata": {},
   "outputs": [],
   "source": [
    "# drop redundant columns\n",
    "cols_to_drop = ['Ag District Code', 'County ANSI']\n",
    "woh.drop(columns=cols_to_drop, inplace=True)\n",
    "woh.columns"
   ]
  },
  {
   "cell_type": "code",
   "execution_count": null,
   "metadata": {
    "scrolled": true
   },
   "outputs": [],
   "source": [
    "# transform 'Value' from string to proper integers\n",
    "woh['Value'] = woh.Value.str.replace('[^0-9]', '')\\\n",
    "                            .replace('', np.nan)\\\n",
    "                            .fillna(0)\\\n",
    "                            .astype('float', errors='ignore')"
   ]
  },
  {
   "cell_type": "code",
   "execution_count": null,
   "metadata": {},
   "outputs": [],
   "source": [
    "woh = woh.sort_values(['County', 'Year']).reset_index(drop=True)\n",
    "woh.head()"
   ]
  },
  {
   "cell_type": "markdown",
   "metadata": {},
   "source": [
    "# 2 Descriptive Summary"
   ]
  },
  {
   "cell_type": "code",
   "execution_count": null,
   "metadata": {},
   "outputs": [],
   "source": [
    "# the county and its agricultural district\n",
    "woh[['Ag District', 'County']].drop_duplicates().sort_values('County')"
   ]
  },
  {
   "cell_type": "code",
   "execution_count": null,
   "metadata": {},
   "outputs": [],
   "source": [
    "# unique commodities\n",
    "woh.Commodity.unique()"
   ]
  },
  {
   "cell_type": "code",
   "execution_count": null,
   "metadata": {},
   "outputs": [],
   "source": [
    "# all available data on commodities\n",
    "woh['Data Item'].unique()"
   ]
  },
  {
   "cell_type": "markdown",
   "metadata": {},
   "source": [
    "# 3 Viz: Yield"
   ]
  },
  {
   "cell_type": "code",
   "execution_count": null,
   "metadata": {},
   "outputs": [],
   "source": [
    "# data items we are interested in for measuring productivity\n",
    "woh[woh['Data Item'].str.contains('YIELD')]['Data Item'].unique()\n",
    "\n",
    "# BU = bushels (64 pints of dry goods)"
   ]
  },
  {
   "cell_type": "code",
   "execution_count": null,
   "metadata": {
    "scrolled": false
   },
   "outputs": [],
   "source": [
    "data_items = woh[woh['Data Item'].str.contains('YIELD')]['Data Item'].unique()\n",
    "\n",
    "for data_item in data_items:\n",
    "    subset_woh = woh[woh['Data Item']==data_item]\n",
    "    subset_woh = subset_woh.pivot(index='Year', columns='County', values='Value')\n",
    "    subset_woh.index = subset_woh.index.astype('int')\n",
    "    \n",
    "    subset_woh.plot.line(marker='.', figsize=(9,5))\n",
    "    plt.xticks(subset_woh.index, rotation=90)\n",
    "    plt.xlabel('')\n",
    "\n",
    "    plt.legend(bbox_to_anchor=(1,1))\n",
    "    min_year = subset_woh.index.min()\n",
    "    max_year = subset_woh.index.max()\n",
    "    plt.title(\"%s\\n(%d-%d)\"%(data_item, min_year, max_year))\n",
    "    plt.grid(linestyle='--', alpha=.3)\n",
    "    \n",
    "# analysis\n",
    "# seems like only corn and hay data is available"
   ]
  },
  {
   "cell_type": "markdown",
   "metadata": {},
   "source": [
    "# 4 Viz: Combined Yield"
   ]
  },
  {
   "cell_type": "code",
   "execution_count": null,
   "metadata": {},
   "outputs": [],
   "source": [
    "yields_in_tons = ['CORN, SILAGE - YIELD, MEASURED IN TONS / ACRE',\n",
    "                  'HAY - YIELD, MEASURED IN TONS / ACRE']\n",
    "yields_in_bu = ['CORN, GRAIN - YIELD, MEASURED IN BU / ACRE',\n",
    "                'OATS - YIELD, MEASURED IN BU / ACRE',\n",
    "                'SOYBEANS - YIELD, MEASURED IN BU / ACRE',\n",
    "                'WHEAT - YIELD, MEASURED IN BU / ACRE']"
   ]
  },
  {
   "cell_type": "code",
   "execution_count": null,
   "metadata": {},
   "outputs": [],
   "source": [
    "_, axes = plt.subplots(2, sharex=True)\n",
    "ylabels = ['Ton per Acre', 'Bushels per Acre']\n",
    "titles = ['Combined Corn (Silage) and Hay Yield, measured in Tons per Acre',\n",
    "          'Combined Corn (Grain), Oats, Soybean and Wheat Yield, measured in Bushels per Acre']\n",
    "for i, cat in enumerate([yields_in_tons, yields_in_bu]):\n",
    "    subset_df = woh[woh['Data Item'].isin(cat)]\\\n",
    "        .pivot_table(index='Year', columns='County', values='Value', aggfunc='sum')\n",
    "    subset_df.plot.area(figsize=(16, 7),\n",
    "                        ax=axes[i],\n",
    "                        cmap='Set3',\n",
    "                        legend=True if i==0 else False,\n",
    "                        stacked=True)\n",
    "    \n",
    "    axes[i].set_ylabel(ylabels[i])\n",
    "    axes[i].set_xticks(subset_df.index)\n",
    "    axes[i].set_title(titles[i])\n",
    "\n",
    "axes[0].legend(bbox_to_anchor=(1,1))\n"
   ]
  }
 ],
 "metadata": {
  "kernelspec": {
   "display_name": "Python 3",
   "language": "python",
   "name": "python3"
  },
  "language_info": {
   "codemirror_mode": {
    "name": "ipython",
    "version": 3
   },
   "file_extension": ".py",
   "mimetype": "text/x-python",
   "name": "python",
   "nbconvert_exporter": "python",
   "pygments_lexer": "ipython3",
   "version": "3.7.4"
  }
 },
 "nbformat": 4,
 "nbformat_minor": 2
}
