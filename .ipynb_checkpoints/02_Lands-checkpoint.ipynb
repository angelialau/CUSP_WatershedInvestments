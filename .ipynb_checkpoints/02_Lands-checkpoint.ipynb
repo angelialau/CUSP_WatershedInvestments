{
 "cells": [
  {
   "cell_type": "markdown",
   "metadata": {},
   "source": [
    "# Load Data and Packages"
   ]
  },
  {
   "cell_type": "code",
   "execution_count": null,
   "metadata": {},
   "outputs": [],
   "source": [
    "import pandas as pd\n",
    "import matplotlib.pyplot as plt\n",
    "import geopandas\n",
    "%matplotlib inline\n",
    "\n",
    "# input csv\n",
    "LAP_FILEPATH = '../data/LAP.geojson'\n",
    "COUNTY_AREA_FILEPATH = '../data/county_area.csv'\n",
    "LULC_FILEPATH = '../data/LULC_LAP_WOH_intersection.geojson'\n",
    "\n",
    "# output csv\n",
    "LAND_COUNTS_FILEPATH = '../data/LAP_annual_counts.csv'\n",
    "LAND_ACRES_FILEPATH = '../data/LAP_annual_acres.csv'\n",
    "LAND_ACRES_NORM_FILEPATH = '../data/LAP_annual_acres_normalized.csv'\n",
    "\n",
    "WOH_COUNTIES = ['Delaware', 'Greene', 'Schoharie', 'Sullivan', 'Ulster']\n",
    "EOH_COUNTIES = ['Dutchess', 'Putnam', 'Westchester']"
   ]
  },
  {
   "cell_type": "code",
   "execution_count": null,
   "metadata": {
    "scrolled": true
   },
   "outputs": [],
   "source": [
    "df = geopandas.read_file(LAP_FILEPATH)\n",
    "df.head(2)"
   ]
  },
  {
   "cell_type": "code",
   "execution_count": null,
   "metadata": {
    "scrolled": false
   },
   "outputs": [],
   "source": [
    "# creating a df out of a subset of the geopandas df\n",
    "df['CLOSING_DT'] = pd.to_datetime(df.CLOSING_DT)\n",
    "df['year'] = df['CLOSING_DT'].dt.year\n",
    "df.head(2)"
   ]
  },
  {
   "cell_type": "code",
   "execution_count": null,
   "metadata": {},
   "outputs": [],
   "source": [
    "areas = pd.read_csv(COUNTY_AREA_FILEPATH, index_col=0)\n",
    "areas = areas.apply(lambda row: row.astype('int'), axis=1)\n",
    "areas"
   ]
  },
  {
   "cell_type": "markdown",
   "metadata": {},
   "source": [
    "# Summary Statistics"
   ]
  },
  {
   "cell_type": "code",
   "execution_count": null,
   "metadata": {
    "scrolled": false
   },
   "outputs": [],
   "source": [
    "ax = df.plot(figsize=(10,8), \n",
    "              column='County', \n",
    "              legend=True, \n",
    "              legend_kwds={'loc':3, 'title':'County'})\n",
    "ax.set_title('NYC DEP owned lands')"
   ]
  },
  {
   "cell_type": "code",
   "execution_count": null,
   "metadata": {
    "scrolled": true
   },
   "outputs": [],
   "source": [
    "# land acquired area / county area\n",
    "(df[df.Acquisitio=='LAP'].groupby('County').agg({'GIS_Acres': 'sum'})\\\n",
    "     .GIS_Acres/areas.acres)\\\n",
    "    .sort_values(ascending=False)"
   ]
  },
  {
   "cell_type": "code",
   "execution_count": null,
   "metadata": {},
   "outputs": [],
   "source": [
    "df.CLOSING_DT\\\n",
    "    .value_counts(sort=False)\\\n",
    "    .plot(figsize=(10,5),\n",
    "          title='Closing Date of Acquired Land')"
   ]
  },
  {
   "cell_type": "code",
   "execution_count": null,
   "metadata": {
    "scrolled": false
   },
   "outputs": [],
   "source": [
    "# plot with county, ensure that the numbers are for acquired lands only \n",
    "_, axes = plt.subplots(1, 2, sharex=True)\n",
    "titles = ['West of Hudson', 'East of Hudson']\n",
    "for i, county_grp in enumerate([WOH_COUNTIES, EOH_COUNTIES]):\n",
    "    temp = df[(df.Acquisitio=='LAP') & (df.County.isin(county_grp))]\\\n",
    "        .pivot_table(index='year', \n",
    "                     columns='County', \n",
    "                     values='SWIS_SBL',\n",
    "                     aggfunc='nunique', \n",
    "                     fill_value=0)\n",
    "    temp.index = temp.index.astype('int')\n",
    "    temp.plot.bar(stacked=True, \n",
    "                  ax=axes[i],\n",
    "                  figsize=(12,5),\n",
    "                  title=titles[i])\n",
    "    axes[i].set_xlabel('Year')\n",
    "    axes[i].set_ylabel('Count')\n",
    "\n",
    "plt.suptitle('Number of LAP-acquired Lands, per Year')"
   ]
  },
  {
   "cell_type": "code",
   "execution_count": null,
   "metadata": {},
   "outputs": [],
   "source": [
    "# save csv of annual counts per WOH county\n",
    "acquired = df[df.Acquisitio=='LAP']\\\n",
    "                .pivot_table(index='year', \n",
    "                     columns='County', \n",
    "                     values='SWIS_SBL',\n",
    "                     aggfunc='nunique', \n",
    "                     fill_value=0)\n",
    "acquired.to_csv(LAND_COUNTS_FILEPATH)"
   ]
  },
  {
   "cell_type": "code",
   "execution_count": null,
   "metadata": {},
   "outputs": [],
   "source": [
    "temp = nyc_df.pivot_table(index='year', \n",
    "                          columns='Acquisitio', \n",
    "                          aggfunc='count', \n",
    "                          fill_value=0)\n",
    "temp = temp['CLOSING_DT']\n",
    "temp.index = temp.index.astype('int')\n",
    "\n",
    "ax = temp.plot.bar(stacked=True, \n",
    "                   figsize=(7,5),\n",
    "                   title='Method of Acquisition, per Year')\n",
    "ax.legend(bbox_to_anchor=(1,1))\n",
    "ax.set_xlabel('Year')\n",
    "ax.set_ylabel('Count')"
   ]
  },
  {
   "cell_type": "code",
   "execution_count": null,
   "metadata": {
    "scrolled": false
   },
   "outputs": [],
   "source": [
    "_, axes = plt.subplots(1, 2, sharex=True)\n",
    "titles = ['West of Hudson', 'East of Hudson']\n",
    "for i, county_grp in enumerate([WOH_COUNTIES, EOH_COUNTIES]):\n",
    "    temp = df[(df.Acquisitio=='LAP') & (df.County.isin(county_grp))]\\\n",
    "        .pivot_table(index='year', \n",
    "                     columns='County', \n",
    "                     values='GIS_Acres',\n",
    "                     aggfunc='sum', \n",
    "                     fill_value=0)\n",
    "    temp.index = temp.index.astype('int')\n",
    "    temp.plot.bar(stacked=True, \n",
    "                  ax=axes[i],\n",
    "                  figsize=(12,5),\n",
    "                  title=titles[i])\n",
    "\n",
    "    axes[i].set_xlabel('Year')\n",
    "    axes[i].set_ylabel('Acres')\n",
    "    \n",
    "plt.suptitle('Acres of LAP-acquired Lands, per Year')\n"
   ]
  },
  {
   "cell_type": "code",
   "execution_count": null,
   "metadata": {},
   "outputs": [],
   "source": [
    "# saves as csv the acres of lands acquired per year, by county\n",
    "acquired_acres = df[df.Acquisitio=='LAP']\\\n",
    "        .pivot_table(index='year', \n",
    "                     columns='County', \n",
    "                     values='GIS_Acres',\n",
    "                     aggfunc='sum', \n",
    "                     fill_value=0)\n",
    "acquired_acres.to_csv(LAND_ACRES_FILEPATH)"
   ]
  },
  {
   "cell_type": "code",
   "execution_count": null,
   "metadata": {},
   "outputs": [],
   "source": [
    "# acquired acres / county acres\n",
    "acquired_acres_normed = acquired_acres/areas.transpose().loc['acres']\n",
    "acquired_acres_normed.to_csv(LAND_ACRES_NORM_FILEPATH)"
   ]
  },
  {
   "cell_type": "markdown",
   "metadata": {},
   "source": [
    "# Export data as json for viz\n",
    "### Annual acres"
   ]
  },
  {
   "cell_type": "code",
   "execution_count": null,
   "metadata": {
    "scrolled": true
   },
   "outputs": [],
   "source": [
    "df = pd.read_csv(LAND_ACRES_FILEPATH, dtype={'year': 'int'}, index_col='year')\n",
    "df.head(2)"
   ]
  },
  {
   "cell_type": "code",
   "execution_count": null,
   "metadata": {},
   "outputs": [],
   "source": [
    "import json\n",
    "with open('../output/lap_woh_with_landuse.json', 'r') as f:\n",
    "    data = json.load(f)"
   ]
  },
  {
   "cell_type": "code",
   "execution_count": null,
   "metadata": {},
   "outputs": [],
   "source": [
    "# add annual total land acres info to existing lap json\n",
    "for county, total_acres_dict in df.to_dict().items():\n",
    "    if county not in data: \n",
    "        data[county] = {}\n",
    "    data[county]['All Landuse Types'] = total_acres_dict"
   ]
  },
  {
   "cell_type": "code",
   "execution_count": null,
   "metadata": {},
   "outputs": [],
   "source": [
    "with open('../output/lap.json', 'w') as f:\n",
    "    json.dump(data, f)"
   ]
  },
  {
   "cell_type": "markdown",
   "metadata": {},
   "source": [
    "### Annual cumulative acres"
   ]
  },
  {
   "cell_type": "code",
   "execution_count": null,
   "metadata": {},
   "outputs": [],
   "source": [
    "sum_df = df.cumsum()\n",
    "sum_df['All Counties'] = sum_df.sum(axis=1)\n",
    "sum_df.head()"
   ]
  },
  {
   "cell_type": "code",
   "execution_count": null,
   "metadata": {},
   "outputs": [],
   "source": [
    "with open('../output/lap_cumulative_acres.json', 'w') as f:\n",
    "    json.dump(sum_df.to_dict(), f, indent=2)"
   ]
  }
 ],
 "metadata": {
  "kernelspec": {
   "display_name": "Python 3",
   "language": "python",
   "name": "python3"
  },
  "language_info": {
   "codemirror_mode": {
    "name": "ipython",
    "version": 3
   },
   "file_extension": ".py",
   "mimetype": "text/x-python",
   "name": "python",
   "nbconvert_exporter": "python",
   "pygments_lexer": "ipython3",
   "version": "3.7.4"
  }
 },
 "nbformat": 4,
 "nbformat_minor": 2
}
