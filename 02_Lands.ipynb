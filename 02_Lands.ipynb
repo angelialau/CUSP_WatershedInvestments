{
 "cells": [
  {
   "cell_type": "markdown",
   "metadata": {},
   "source": [
    "This notebook explores LAP-acquired lands dataset and computes some summary statistics.\n",
    "\n",
    "Done by: Angelia"
   ]
  },
  {
   "cell_type": "markdown",
   "metadata": {},
   "source": [
    "# Load Data and Packages"
   ]
  },
  {
   "cell_type": "code",
   "execution_count": 1,
   "metadata": {},
   "outputs": [],
   "source": [
    "import pandas as pd\n",
    "import matplotlib.pyplot as plt\n",
    "import geopandas\n",
    "%matplotlib inline\n",
    "\n",
    "# input csv\n",
    "LAP_FILEPATH = '../data/LAP.geojson'\n",
    "COUNTY_AREA_FILEPATH = '../data/county_area.csv'\n",
    "LULC_FILEPATH = '../data/LULC_LAP_WOH_intersection.geojson'\n",
    "\n",
    "# output csv\n",
    "LAND_COUNTS_FILEPATH = '../data/LAP_annual_counts.csv'\n",
    "LAND_ACRES_FILEPATH = '../data/LAP_annual_acres.csv'\n",
    "LAND_ACRES_NORM_FILEPATH = '../data/LAP_annual_acres_normalized.csv'\n",
    "\n",
    "WOH_COUNTIES = ['Delaware', 'Greene', 'Schoharie', 'Sullivan', 'Ulster']\n",
    "EOH_COUNTIES = ['Dutchess', 'Putnam', 'Westchester']"
   ]
  },
  {
   "cell_type": "code",
   "execution_count": 19,
   "metadata": {},
   "outputs": [
    {
     "data": {
      "text/plain": [
       "['Delaware',\n",
       " 'Dutchess',\n",
       " 'Greene',\n",
       " 'Putnam',\n",
       " 'Schoharie',\n",
       " 'Sullivan',\n",
       " 'Ulster',\n",
       " 'Westchester']"
      ]
     },
     "execution_count": 19,
     "metadata": {},
     "output_type": "execute_result"
    }
   ],
   "source": [
    "areas.index.tolist()"
   ]
  },
  {
   "cell_type": "code",
   "execution_count": 2,
   "metadata": {
    "scrolled": true
   },
   "outputs": [
    {
     "data": {
      "text/html": [
       "<div>\n",
       "<style scoped>\n",
       "    .dataframe tbody tr th:only-of-type {\n",
       "        vertical-align: middle;\n",
       "    }\n",
       "\n",
       "    .dataframe tbody tr th {\n",
       "        vertical-align: top;\n",
       "    }\n",
       "\n",
       "    .dataframe thead th {\n",
       "        text-align: right;\n",
       "    }\n",
       "</style>\n",
       "<table border=\"1\" class=\"dataframe\">\n",
       "  <thead>\n",
       "    <tr style=\"text-align: right;\">\n",
       "      <th></th>\n",
       "      <th>SWIS_SBL</th>\n",
       "      <th>Acquisitio</th>\n",
       "      <th>REType</th>\n",
       "      <th>PROP_ID</th>\n",
       "      <th>County</th>\n",
       "      <th>Town</th>\n",
       "      <th>CLOSING_DT</th>\n",
       "      <th>SOH</th>\n",
       "      <th>PARC_STAT</th>\n",
       "      <th>GIS_Acres</th>\n",
       "      <th>SubProgram</th>\n",
       "      <th>geometry</th>\n",
       "    </tr>\n",
       "  </thead>\n",
       "  <tbody>\n",
       "    <tr>\n",
       "      <td>0</td>\n",
       "      <td>12200032500000010110000000</td>\n",
       "      <td>PRE-MOA</td>\n",
       "      <td>Fee</td>\n",
       "      <td>0</td>\n",
       "      <td>Delaware</td>\n",
       "      <td>Andes</td>\n",
       "      <td>None</td>\n",
       "      <td>West</td>\n",
       "      <td>Complete</td>\n",
       "      <td>497.694050</td>\n",
       "      <td>None</td>\n",
       "      <td>MULTIPOLYGON (((520740.367 4663055.185, 520743...</td>\n",
       "    </tr>\n",
       "    <tr>\n",
       "      <td>1</td>\n",
       "      <td>12200032500000010120000000</td>\n",
       "      <td>PRE-MOA</td>\n",
       "      <td>Fee</td>\n",
       "      <td>0</td>\n",
       "      <td>Delaware</td>\n",
       "      <td>Andes</td>\n",
       "      <td>None</td>\n",
       "      <td>West</td>\n",
       "      <td>Complete</td>\n",
       "      <td>44.337292</td>\n",
       "      <td>None</td>\n",
       "      <td>MULTIPOLYGON (((521517.684 4663401.659, 521044...</td>\n",
       "    </tr>\n",
       "  </tbody>\n",
       "</table>\n",
       "</div>"
      ],
      "text/plain": [
       "                     SWIS_SBL Acquisitio REType  PROP_ID    County   Town  \\\n",
       "0  12200032500000010110000000    PRE-MOA    Fee        0  Delaware  Andes   \n",
       "1  12200032500000010120000000    PRE-MOA    Fee        0  Delaware  Andes   \n",
       "\n",
       "  CLOSING_DT   SOH PARC_STAT   GIS_Acres SubProgram  \\\n",
       "0       None  West  Complete  497.694050       None   \n",
       "1       None  West  Complete   44.337292       None   \n",
       "\n",
       "                                            geometry  \n",
       "0  MULTIPOLYGON (((520740.367 4663055.185, 520743...  \n",
       "1  MULTIPOLYGON (((521517.684 4663401.659, 521044...  "
      ]
     },
     "execution_count": 2,
     "metadata": {},
     "output_type": "execute_result"
    }
   ],
   "source": [
    "df = geopandas.read_file(LAP_FILEPATH)\n",
    "df.head(2)"
   ]
  },
  {
   "cell_type": "code",
   "execution_count": 3,
   "metadata": {},
   "outputs": [
    {
     "data": {
      "text/plain": [
       "(3551, 12)"
      ]
     },
     "execution_count": 3,
     "metadata": {},
     "output_type": "execute_result"
    }
   ],
   "source": [
    "df.shape"
   ]
  },
  {
   "cell_type": "code",
   "execution_count": 3,
   "metadata": {
    "scrolled": false
   },
   "outputs": [
    {
     "data": {
      "text/html": [
       "<div>\n",
       "<style scoped>\n",
       "    .dataframe tbody tr th:only-of-type {\n",
       "        vertical-align: middle;\n",
       "    }\n",
       "\n",
       "    .dataframe tbody tr th {\n",
       "        vertical-align: top;\n",
       "    }\n",
       "\n",
       "    .dataframe thead th {\n",
       "        text-align: right;\n",
       "    }\n",
       "</style>\n",
       "<table border=\"1\" class=\"dataframe\">\n",
       "  <thead>\n",
       "    <tr style=\"text-align: right;\">\n",
       "      <th></th>\n",
       "      <th>SWIS_SBL</th>\n",
       "      <th>Acquisitio</th>\n",
       "      <th>REType</th>\n",
       "      <th>PROP_ID</th>\n",
       "      <th>County</th>\n",
       "      <th>Town</th>\n",
       "      <th>CLOSING_DT</th>\n",
       "      <th>SOH</th>\n",
       "      <th>PARC_STAT</th>\n",
       "      <th>GIS_Acres</th>\n",
       "      <th>SubProgram</th>\n",
       "      <th>geometry</th>\n",
       "      <th>year</th>\n",
       "    </tr>\n",
       "  </thead>\n",
       "  <tbody>\n",
       "    <tr>\n",
       "      <td>0</td>\n",
       "      <td>12200032500000010110000000</td>\n",
       "      <td>PRE-MOA</td>\n",
       "      <td>Fee</td>\n",
       "      <td>0</td>\n",
       "      <td>Delaware</td>\n",
       "      <td>Andes</td>\n",
       "      <td>NaT</td>\n",
       "      <td>West</td>\n",
       "      <td>Complete</td>\n",
       "      <td>497.694050</td>\n",
       "      <td>None</td>\n",
       "      <td>MULTIPOLYGON (((520740.367 4663055.185, 520743...</td>\n",
       "      <td>NaN</td>\n",
       "    </tr>\n",
       "    <tr>\n",
       "      <td>1</td>\n",
       "      <td>12200032500000010120000000</td>\n",
       "      <td>PRE-MOA</td>\n",
       "      <td>Fee</td>\n",
       "      <td>0</td>\n",
       "      <td>Delaware</td>\n",
       "      <td>Andes</td>\n",
       "      <td>NaT</td>\n",
       "      <td>West</td>\n",
       "      <td>Complete</td>\n",
       "      <td>44.337292</td>\n",
       "      <td>None</td>\n",
       "      <td>MULTIPOLYGON (((521517.684 4663401.659, 521044...</td>\n",
       "      <td>NaN</td>\n",
       "    </tr>\n",
       "  </tbody>\n",
       "</table>\n",
       "</div>"
      ],
      "text/plain": [
       "                     SWIS_SBL Acquisitio REType  PROP_ID    County   Town  \\\n",
       "0  12200032500000010110000000    PRE-MOA    Fee        0  Delaware  Andes   \n",
       "1  12200032500000010120000000    PRE-MOA    Fee        0  Delaware  Andes   \n",
       "\n",
       "  CLOSING_DT   SOH PARC_STAT   GIS_Acres SubProgram  \\\n",
       "0        NaT  West  Complete  497.694050       None   \n",
       "1        NaT  West  Complete   44.337292       None   \n",
       "\n",
       "                                            geometry  year  \n",
       "0  MULTIPOLYGON (((520740.367 4663055.185, 520743...   NaN  \n",
       "1  MULTIPOLYGON (((521517.684 4663401.659, 521044...   NaN  "
      ]
     },
     "execution_count": 3,
     "metadata": {},
     "output_type": "execute_result"
    }
   ],
   "source": [
    "# creating a df out of a subset of the geopandas df\n",
    "df['CLOSING_DT'] = pd.to_datetime(df.CLOSING_DT)\n",
    "df['year'] = df['CLOSING_DT'].dt.year\n",
    "df.head(2)"
   ]
  },
  {
   "cell_type": "code",
   "execution_count": 13,
   "metadata": {},
   "outputs": [
    {
     "data": {
      "text/html": [
       "<div>\n",
       "<style scoped>\n",
       "    .dataframe tbody tr th:only-of-type {\n",
       "        vertical-align: middle;\n",
       "    }\n",
       "\n",
       "    .dataframe tbody tr th {\n",
       "        vertical-align: top;\n",
       "    }\n",
       "\n",
       "    .dataframe thead th {\n",
       "        text-align: right;\n",
       "    }\n",
       "</style>\n",
       "<table border=\"1\" class=\"dataframe\">\n",
       "  <thead>\n",
       "    <tr style=\"text-align: right;\">\n",
       "      <th></th>\n",
       "      <th>sq_miles</th>\n",
       "      <th>acres</th>\n",
       "    </tr>\n",
       "    <tr>\n",
       "      <th>County</th>\n",
       "      <th></th>\n",
       "      <th></th>\n",
       "    </tr>\n",
       "  </thead>\n",
       "  <tbody>\n",
       "    <tr>\n",
       "      <td>Delaware</td>\n",
       "      <td>1467</td>\n",
       "      <td>938880</td>\n",
       "    </tr>\n",
       "    <tr>\n",
       "      <td>Dutchess</td>\n",
       "      <td>825</td>\n",
       "      <td>528000</td>\n",
       "    </tr>\n",
       "    <tr>\n",
       "      <td>Greene</td>\n",
       "      <td>647</td>\n",
       "      <td>414080</td>\n",
       "    </tr>\n",
       "    <tr>\n",
       "      <td>Putnam</td>\n",
       "      <td>246</td>\n",
       "      <td>157440</td>\n",
       "    </tr>\n",
       "    <tr>\n",
       "      <td>Schoharie</td>\n",
       "      <td>626</td>\n",
       "      <td>400640</td>\n",
       "    </tr>\n",
       "    <tr>\n",
       "      <td>Sullivan</td>\n",
       "      <td>997</td>\n",
       "      <td>638080</td>\n",
       "    </tr>\n",
       "    <tr>\n",
       "      <td>Ulster</td>\n",
       "      <td>1161</td>\n",
       "      <td>743040</td>\n",
       "    </tr>\n",
       "    <tr>\n",
       "      <td>Westchester</td>\n",
       "      <td>500</td>\n",
       "      <td>320000</td>\n",
       "    </tr>\n",
       "  </tbody>\n",
       "</table>\n",
       "</div>"
      ],
      "text/plain": [
       "             sq_miles   acres\n",
       "County                       \n",
       "Delaware         1467  938880\n",
       "Dutchess          825  528000\n",
       "Greene            647  414080\n",
       "Putnam            246  157440\n",
       "Schoharie         626  400640\n",
       "Sullivan          997  638080\n",
       "Ulster           1161  743040\n",
       "Westchester       500  320000"
      ]
     },
     "execution_count": 13,
     "metadata": {},
     "output_type": "execute_result"
    }
   ],
   "source": [
    "areas = pd.read_csv(COUNTY_AREA_FILEPATH, index_col=0)\n",
    "areas = areas.apply(lambda row: row.astype('int'), axis=1)\n",
    "areas"
   ]
  },
  {
   "cell_type": "markdown",
   "metadata": {},
   "source": [
    "# Summary Statistics"
   ]
  },
  {
   "cell_type": "code",
   "execution_count": 4,
   "metadata": {
    "scrolled": false
   },
   "outputs": [
    {
     "data": {
      "text/plain": [
       "Text(0.5, 1.0, 'NYC DEP owned lands')"
      ]
     },
     "execution_count": 4,
     "metadata": {},
     "output_type": "execute_result"
    },
    {
     "data": {
      "image/png": "[encoded data removed]",
      "text/plain": [
       "<Figure size 720x576 with 1 Axes>"
      ]
     },
     "metadata": {
      "needs_background": "light"
     },
     "output_type": "display_data"
    }
   ],
   "source": [
    "ax = df.plot(figsize=(10,8), \n",
    "              column='County', \n",
    "              legend=True, \n",
    "              legend_kwds={'loc':3, 'title':'County'})\n",
    "ax.set_title('NYC DEP owned lands')"
   ]
  },
  {
   "cell_type": "code",
   "execution_count": 16,
   "metadata": {
    "scrolled": true
   },
   "outputs": [
    {
     "data": {
      "text/plain": [
       "County\n",
       "Delaware       0.089509\n",
       "Greene         0.063901\n",
       "Putnam         0.054151\n",
       "Ulster         0.028277\n",
       "Schoharie      0.012644\n",
       "Sullivan       0.009723\n",
       "Westchester    0.006261\n",
       "Dutchess       0.002000\n",
       "dtype: float64"
      ]
     },
     "execution_count": 16,
     "metadata": {},
     "output_type": "execute_result"
    }
   ],
   "source": [
    "# land acquired area / county area\n",
    "(df[df.Acquisitio=='LAP'].groupby('County').agg({'GIS_Acres': 'sum'})\\\n",
    "     .GIS_Acres/areas.acres)\\\n",
    "    .sort_values(ascending=False)"
   ]
  },
  {
   "cell_type": "code",
   "execution_count": 17,
   "metadata": {},
   "outputs": [
    {
     "data": {
      "text/plain": [
       "<matplotlib.axes._subplots.AxesSubplot at 0x1283b1290>"
      ]
     },
     "execution_count": 17,
     "metadata": {},
     "output_type": "execute_result"
    },
    {
     "data": {
      "image/png": "[encoded data removed]",
      "text/plain": [
       "<Figure size 720x360 with 1 Axes>"
      ]
     },
     "metadata": {
      "needs_background": "light"
     },
     "output_type": "display_data"
    }
   ],
   "source": [
    "df.CLOSING_DT\\\n",
    "    .value_counts(sort=False)\\\n",
    "    .plot(figsize=(10,5),\n",
    "          title='Closing Date of Acquired Land')"
   ]
  },
  {
   "cell_type": "code",
   "execution_count": 78,
   "metadata": {
    "scrolled": false
   },
   "outputs": [
    {
     "data": {
      "text/plain": [
       "Text(0.5, 0.98, 'Number of LAP-acquired Lands, per Year')"
      ]
     },
     "execution_count": 78,
     "metadata": {},
     "output_type": "execute_result"
    },
    {
     "data": {
      "image/png": "[encoded data removed]",
      "text/plain": [
       "<Figure size 864x360 with 2 Axes>"
      ]
     },
     "metadata": {
      "needs_background": "light"
     },
     "output_type": "display_data"
    }
   ],
   "source": [
    "# plot with county, ensure that the numbers are for acquired lands only \n",
    "_, axes = plt.subplots(1, 2, sharex=True)\n",
    "titles = ['West of Hudson', 'East of Hudson']\n",
    "for i, county_grp in enumerate([WOH_COUNTIES, EOH_COUNTIES]):\n",
    "    temp = df[(df.Acquisitio=='LAP') & (df.County.isin(county_grp))]\\\n",
    "        .pivot_table(index='year', \n",
    "                     columns='County', \n",
    "                     values='SWIS_SBL',\n",
    "                     aggfunc='nunique', \n",
    "                     fill_value=0)\n",
    "    temp.index = temp.index.astype('int')\n",
    "    temp.plot.bar(stacked=True, \n",
    "                  ax=axes[i],\n",
    "                  figsize=(12,5),\n",
    "                  title=titles[i])\n",
    "    axes[i].set_xlabel('Year')\n",
    "    axes[i].set_ylabel('Count')\n",
    "\n",
    "plt.suptitle('Number of LAP-acquired Lands, per Year')"
   ]
  },
  {
   "cell_type": "code",
   "execution_count": 79,
   "metadata": {},
   "outputs": [],
   "source": [
    "# save csv of annual counts per WOH county\n",
    "acquired = df[df.Acquisitio=='LAP']\\\n",
    "                .pivot_table(index='year', \n",
    "                     columns='County', \n",
    "                     values='SWIS_SBL',\n",
    "                     aggfunc='nunique', \n",
    "                     fill_value=0)\n",
    "acquired.to_csv(LAND_COUNTS_FILEPATH)"
   ]
  },
  {
   "cell_type": "code",
   "execution_count": 134,
   "metadata": {},
   "outputs": [
    {
     "data": {
      "text/plain": [
       "Text(0, 0.5, 'Count')"
      ]
     },
     "execution_count": 134,
     "metadata": {},
     "output_type": "execute_result"
    },
    {
     "data": {
      "image/png": "[encoded data removed]",
      "text/plain": [
       "<Figure size 504x360 with 1 Axes>"
      ]
     },
     "metadata": {
      "needs_background": "light"
     },
     "output_type": "display_data"
    }
   ],
   "source": [
    "temp = nyc_df.pivot_table(index='year', \n",
    "                          columns='Acquisitio', \n",
    "                          aggfunc='count', \n",
    "                          fill_value=0)\n",
    "temp = temp['CLOSING_DT']\n",
    "temp.index = temp.index.astype('int')\n",
    "\n",
    "ax = temp.plot.bar(stacked=True, \n",
    "                   figsize=(7,5),\n",
    "                   title='Method of Acquisition, per Year')\n",
    "ax.legend(bbox_to_anchor=(1,1))\n",
    "ax.set_xlabel('Year')\n",
    "ax.set_ylabel('Count')"
   ]
  },
  {
   "cell_type": "code",
   "execution_count": 38,
   "metadata": {
    "scrolled": false
   },
   "outputs": [
    {
     "data": {
      "text/plain": [
       "Text(0.5, 0.98, 'Acres of LAP-acquired Lands, per Year')"
      ]
     },
     "execution_count": 38,
     "metadata": {},
     "output_type": "execute_result"
    },
    {
     "data": {
      "image/png": "[encoded data removed]",
      "text/plain": [
       "<Figure size 864x360 with 2 Axes>"
      ]
     },
     "metadata": {
      "needs_background": "light"
     },
     "output_type": "display_data"
    }
   ],
   "source": [
    "_, axes = plt.subplots(1, 2, sharex=True)\n",
    "titles = ['West of Hudson', 'East of Hudson']\n",
    "for i, county_grp in enumerate([WOH_COUNTIES, EOH_COUNTIES]):\n",
    "    temp = df[(df.Acquisitio=='LAP') & (df.County.isin(county_grp))]\\\n",
    "        .pivot_table(index='year', \n",
    "                     columns='County', \n",
    "                     values='GIS_Acres',\n",
    "                     aggfunc='sum', \n",
    "                     fill_value=0)\n",
    "#     temp = temp['Acquisitio']\n",
    "    temp.index = temp.index.astype('int')\n",
    "    temp.plot.bar(stacked=True, \n",
    "                  ax=axes[i],\n",
    "                  figsize=(12,5),\n",
    "                  title=titles[i])\n",
    "\n",
    "    axes[i].set_xlabel('Year')\n",
    "    axes[i].set_ylabel('Acres')\n",
    "    \n",
    "plt.suptitle('Acres of LAP-acquired Lands, per Year')\n"
   ]
  },
  {
   "cell_type": "code",
   "execution_count": 42,
   "metadata": {},
   "outputs": [],
   "source": [
    "# saves as csv the acres of lands acquired per year, by county\n",
    "acquired_acres = df[df.Acquisitio=='LAP']\\\n",
    "        .pivot_table(index='year', \n",
    "                     columns='County', \n",
    "                     values='GIS_Acres',\n",
    "                     aggfunc='sum', \n",
    "                     fill_value=0)\n",
    "acquired_acres.to_csv(LAND_ACRES_FILEPATH)"
   ]
  },
  {
   "cell_type": "code",
   "execution_count": 46,
   "metadata": {},
   "outputs": [
    {
     "data": {
      "text/html": [
       "<div>\n",
       "<style scoped>\n",
       "    .dataframe tbody tr th:only-of-type {\n",
       "        vertical-align: middle;\n",
       "    }\n",
       "\n",
       "    .dataframe tbody tr th {\n",
       "        vertical-align: top;\n",
       "    }\n",
       "\n",
       "    .dataframe thead th {\n",
       "        text-align: right;\n",
       "    }\n",
       "</style>\n",
       "<table border=\"1\" class=\"dataframe\">\n",
       "  <thead>\n",
       "    <tr style=\"text-align: right;\">\n",
       "      <th>County</th>\n",
       "      <th>Delaware</th>\n",
       "      <th>Dutchess</th>\n",
       "      <th>Greene</th>\n",
       "      <th>Putnam</th>\n",
       "      <th>Schoharie</th>\n",
       "      <th>Sullivan</th>\n",
       "      <th>Ulster</th>\n",
       "      <th>Westchester</th>\n",
       "    </tr>\n",
       "    <tr>\n",
       "      <th>year</th>\n",
       "      <th></th>\n",
       "      <th></th>\n",
       "      <th></th>\n",
       "      <th></th>\n",
       "      <th></th>\n",
       "      <th></th>\n",
       "      <th></th>\n",
       "      <th></th>\n",
       "    </tr>\n",
       "  </thead>\n",
       "  <tbody>\n",
       "    <tr>\n",
       "      <td>1997.0</td>\n",
       "      <td>0.000000</td>\n",
       "      <td>0.00000</td>\n",
       "      <td>0.000000</td>\n",
       "      <td>0.000000</td>\n",
       "      <td>0.0</td>\n",
       "      <td>0.000000</td>\n",
       "      <td>113.140498</td>\n",
       "      <td>0.0</td>\n",
       "    </tr>\n",
       "    <tr>\n",
       "      <td>1998.0</td>\n",
       "      <td>79.339455</td>\n",
       "      <td>52.63911</td>\n",
       "      <td>114.952669</td>\n",
       "      <td>1904.332258</td>\n",
       "      <td>0.0</td>\n",
       "      <td>448.184119</td>\n",
       "      <td>2494.442626</td>\n",
       "      <td>0.0</td>\n",
       "    </tr>\n",
       "  </tbody>\n",
       "</table>\n",
       "</div>"
      ],
      "text/plain": [
       "County   Delaware  Dutchess      Greene       Putnam  Schoharie    Sullivan  \\\n",
       "year                                                                          \n",
       "1997.0   0.000000   0.00000    0.000000     0.000000        0.0    0.000000   \n",
       "1998.0  79.339455  52.63911  114.952669  1904.332258        0.0  448.184119   \n",
       "\n",
       "County       Ulster  Westchester  \n",
       "year                              \n",
       "1997.0   113.140498          0.0  \n",
       "1998.0  2494.442626          0.0  "
      ]
     },
     "execution_count": 46,
     "metadata": {},
     "output_type": "execute_result"
    }
   ],
   "source": [
    "acquired_acres.head(2)"
   ]
  },
  {
   "cell_type": "code",
   "execution_count": 52,
   "metadata": {},
   "outputs": [
    {
     "data": {
      "text/plain": [
       "County\n",
       "Delaware       938880\n",
       "Dutchess       528000\n",
       "Greene         414080\n",
       "Putnam         157440\n",
       "Schoharie      400640\n",
       "Sullivan       638080\n",
       "Ulster         743040\n",
       "Westchester    320000\n",
       "Name: acres, dtype: int64"
      ]
     },
     "execution_count": 52,
     "metadata": {},
     "output_type": "execute_result"
    }
   ],
   "source": [
    "areas.transpose().loc['acres']"
   ]
  },
  {
   "cell_type": "code",
   "execution_count": 57,
   "metadata": {},
   "outputs": [],
   "source": [
    "# acquired acres / county acres\n",
    "acquired_acres_normed = acquired_acres/areas.transpose().loc['acres']\n",
    "acquired_acres_normed.to_csv(LAND_ACRES_NORM_FILEPATH)"
   ]
  },
  {
   "cell_type": "markdown",
   "metadata": {},
   "source": [
    "# Export data as json for viz\n",
    "### Annual acres"
   ]
  },
  {
   "cell_type": "code",
   "execution_count": 7,
   "metadata": {
    "scrolled": true
   },
   "outputs": [
    {
     "data": {
      "text/html": [
       "<div>\n",
       "<style scoped>\n",
       "    .dataframe tbody tr th:only-of-type {\n",
       "        vertical-align: middle;\n",
       "    }\n",
       "\n",
       "    .dataframe tbody tr th {\n",
       "        vertical-align: top;\n",
       "    }\n",
       "\n",
       "    .dataframe thead th {\n",
       "        text-align: right;\n",
       "    }\n",
       "</style>\n",
       "<table border=\"1\" class=\"dataframe\">\n",
       "  <thead>\n",
       "    <tr style=\"text-align: right;\">\n",
       "      <th></th>\n",
       "      <th>Delaware</th>\n",
       "      <th>Dutchess</th>\n",
       "      <th>Greene</th>\n",
       "      <th>Putnam</th>\n",
       "      <th>Schoharie</th>\n",
       "      <th>Sullivan</th>\n",
       "      <th>Ulster</th>\n",
       "      <th>Westchester</th>\n",
       "    </tr>\n",
       "    <tr>\n",
       "      <th>year</th>\n",
       "      <th></th>\n",
       "      <th></th>\n",
       "      <th></th>\n",
       "      <th></th>\n",
       "      <th></th>\n",
       "      <th></th>\n",
       "      <th></th>\n",
       "      <th></th>\n",
       "    </tr>\n",
       "  </thead>\n",
       "  <tbody>\n",
       "    <tr>\n",
       "      <td>1997</td>\n",
       "      <td>0.000000</td>\n",
       "      <td>0.00000</td>\n",
       "      <td>0.000000</td>\n",
       "      <td>0.000000</td>\n",
       "      <td>0.0</td>\n",
       "      <td>0.000000</td>\n",
       "      <td>113.140498</td>\n",
       "      <td>0.0</td>\n",
       "    </tr>\n",
       "    <tr>\n",
       "      <td>1998</td>\n",
       "      <td>79.339455</td>\n",
       "      <td>52.63911</td>\n",
       "      <td>114.952669</td>\n",
       "      <td>1904.332258</td>\n",
       "      <td>0.0</td>\n",
       "      <td>448.184119</td>\n",
       "      <td>2494.442626</td>\n",
       "      <td>0.0</td>\n",
       "    </tr>\n",
       "  </tbody>\n",
       "</table>\n",
       "</div>"
      ],
      "text/plain": [
       "       Delaware  Dutchess      Greene       Putnam  Schoharie    Sullivan  \\\n",
       "year                                                                        \n",
       "1997   0.000000   0.00000    0.000000     0.000000        0.0    0.000000   \n",
       "1998  79.339455  52.63911  114.952669  1904.332258        0.0  448.184119   \n",
       "\n",
       "           Ulster  Westchester  \n",
       "year                            \n",
       "1997   113.140498          0.0  \n",
       "1998  2494.442626          0.0  "
      ]
     },
     "execution_count": 7,
     "metadata": {},
     "output_type": "execute_result"
    }
   ],
   "source": [
    "df = pd.read_csv(LAND_ACRES_FILEPATH, dtype={'year': 'int'}, index_col='year')\n",
    "df.head(2)"
   ]
  },
  {
   "cell_type": "code",
   "execution_count": 20,
   "metadata": {},
   "outputs": [],
   "source": [
    "import json\n",
    "with open('../output/lap_woh_with_landuse.json', 'r') as f:\n",
    "    data = json.load(f)"
   ]
  },
  {
   "cell_type": "code",
   "execution_count": 21,
   "metadata": {},
   "outputs": [],
   "source": [
    "# add annual total land acres info to existing lap json\n",
    "for county, total_acres_dict in df.to_dict().items():\n",
    "    if county not in data: \n",
    "        data[county] = {}\n",
    "    data[county]['All Landuse Types'] = total_acres_dict"
   ]
  },
  {
   "cell_type": "code",
   "execution_count": 22,
   "metadata": {},
   "outputs": [
    {
     "name": "stdout",
     "output_type": "stream",
     "text": [
      "dict_keys(['Delaware', 'Greene', 'Schoharie', 'Sullivan', 'Ulster', 'Dutchess', 'Putnam', 'Westchester'])\n",
      "dict_keys(['Agricultural Land', 'Forest Land', 'Others', 'Urban/Built-up Land', 'All Landuse Types'])\n"
     ]
    }
   ],
   "source": [
    "print(data.keys())\n",
    "print(data['Delaware'].keys())"
   ]
  },
  {
   "cell_type": "code",
   "execution_count": 23,
   "metadata": {},
   "outputs": [],
   "source": [
    "with open('../output/lap.json', 'w') as f:\n",
    "    json.dump(data, f)"
   ]
  },
  {
   "cell_type": "markdown",
   "metadata": {},
   "source": [
    "### Annual cumulative acres"
   ]
  },
  {
   "cell_type": "code",
   "execution_count": 27,
   "metadata": {},
   "outputs": [
    {
     "data": {
      "text/html": [
       "<div>\n",
       "<style scoped>\n",
       "    .dataframe tbody tr th:only-of-type {\n",
       "        vertical-align: middle;\n",
       "    }\n",
       "\n",
       "    .dataframe tbody tr th {\n",
       "        vertical-align: top;\n",
       "    }\n",
       "\n",
       "    .dataframe thead th {\n",
       "        text-align: right;\n",
       "    }\n",
       "</style>\n",
       "<table border=\"1\" class=\"dataframe\">\n",
       "  <thead>\n",
       "    <tr style=\"text-align: right;\">\n",
       "      <th></th>\n",
       "      <th>Delaware</th>\n",
       "      <th>Dutchess</th>\n",
       "      <th>Greene</th>\n",
       "      <th>Putnam</th>\n",
       "      <th>Schoharie</th>\n",
       "      <th>Sullivan</th>\n",
       "      <th>Ulster</th>\n",
       "      <th>Westchester</th>\n",
       "    </tr>\n",
       "    <tr>\n",
       "      <th>year</th>\n",
       "      <th></th>\n",
       "      <th></th>\n",
       "      <th></th>\n",
       "      <th></th>\n",
       "      <th></th>\n",
       "      <th></th>\n",
       "      <th></th>\n",
       "      <th></th>\n",
       "    </tr>\n",
       "  </thead>\n",
       "  <tbody>\n",
       "    <tr>\n",
       "      <td>1997</td>\n",
       "      <td>0.000000</td>\n",
       "      <td>0.000000</td>\n",
       "      <td>0.000000</td>\n",
       "      <td>0.000000</td>\n",
       "      <td>0.000000</td>\n",
       "      <td>0.000000</td>\n",
       "      <td>113.140498</td>\n",
       "      <td>0.000000</td>\n",
       "    </tr>\n",
       "    <tr>\n",
       "      <td>1998</td>\n",
       "      <td>79.339455</td>\n",
       "      <td>52.639110</td>\n",
       "      <td>114.952669</td>\n",
       "      <td>1904.332258</td>\n",
       "      <td>0.000000</td>\n",
       "      <td>448.184119</td>\n",
       "      <td>2494.442626</td>\n",
       "      <td>0.000000</td>\n",
       "    </tr>\n",
       "    <tr>\n",
       "      <td>1999</td>\n",
       "      <td>422.136287</td>\n",
       "      <td>278.462069</td>\n",
       "      <td>270.423943</td>\n",
       "      <td>1298.131489</td>\n",
       "      <td>0.000000</td>\n",
       "      <td>141.273826</td>\n",
       "      <td>1528.433320</td>\n",
       "      <td>0.949407</td>\n",
       "    </tr>\n",
       "    <tr>\n",
       "      <td>2000</td>\n",
       "      <td>1109.972263</td>\n",
       "      <td>17.611230</td>\n",
       "      <td>25.968306</td>\n",
       "      <td>851.433788</td>\n",
       "      <td>0.000000</td>\n",
       "      <td>322.299167</td>\n",
       "      <td>1580.639026</td>\n",
       "      <td>15.143574</td>\n",
       "    </tr>\n",
       "    <tr>\n",
       "      <td>2001</td>\n",
       "      <td>1820.017048</td>\n",
       "      <td>0.000000</td>\n",
       "      <td>410.679083</td>\n",
       "      <td>1466.151928</td>\n",
       "      <td>636.722427</td>\n",
       "      <td>307.663491</td>\n",
       "      <td>1969.480620</td>\n",
       "      <td>312.252120</td>\n",
       "    </tr>\n",
       "  </tbody>\n",
       "</table>\n",
       "</div>"
      ],
      "text/plain": [
       "         Delaware    Dutchess      Greene       Putnam   Schoharie  \\\n",
       "year                                                                 \n",
       "1997     0.000000    0.000000    0.000000     0.000000    0.000000   \n",
       "1998    79.339455   52.639110  114.952669  1904.332258    0.000000   \n",
       "1999   422.136287  278.462069  270.423943  1298.131489    0.000000   \n",
       "2000  1109.972263   17.611230   25.968306   851.433788    0.000000   \n",
       "2001  1820.017048    0.000000  410.679083  1466.151928  636.722427   \n",
       "\n",
       "        Sullivan       Ulster  Westchester  \n",
       "year                                        \n",
       "1997    0.000000   113.140498     0.000000  \n",
       "1998  448.184119  2494.442626     0.000000  \n",
       "1999  141.273826  1528.433320     0.949407  \n",
       "2000  322.299167  1580.639026    15.143574  \n",
       "2001  307.663491  1969.480620   312.252120  "
      ]
     },
     "execution_count": 27,
     "metadata": {},
     "output_type": "execute_result"
    }
   ],
   "source": [
    "df.head()"
   ]
  },
  {
   "cell_type": "code",
   "execution_count": 33,
   "metadata": {},
   "outputs": [
    {
     "data": {
      "text/html": [
       "<div>\n",
       "<style scoped>\n",
       "    .dataframe tbody tr th:only-of-type {\n",
       "        vertical-align: middle;\n",
       "    }\n",
       "\n",
       "    .dataframe tbody tr th {\n",
       "        vertical-align: top;\n",
       "    }\n",
       "\n",
       "    .dataframe thead th {\n",
       "        text-align: right;\n",
       "    }\n",
       "</style>\n",
       "<table border=\"1\" class=\"dataframe\">\n",
       "  <thead>\n",
       "    <tr style=\"text-align: right;\">\n",
       "      <th></th>\n",
       "      <th>Delaware</th>\n",
       "      <th>Dutchess</th>\n",
       "      <th>Greene</th>\n",
       "      <th>Putnam</th>\n",
       "      <th>Schoharie</th>\n",
       "      <th>Sullivan</th>\n",
       "      <th>Ulster</th>\n",
       "      <th>Westchester</th>\n",
       "      <th>All Counties</th>\n",
       "    </tr>\n",
       "    <tr>\n",
       "      <th>year</th>\n",
       "      <th></th>\n",
       "      <th></th>\n",
       "      <th></th>\n",
       "      <th></th>\n",
       "      <th></th>\n",
       "      <th></th>\n",
       "      <th></th>\n",
       "      <th></th>\n",
       "      <th></th>\n",
       "    </tr>\n",
       "  </thead>\n",
       "  <tbody>\n",
       "    <tr>\n",
       "      <td>1997</td>\n",
       "      <td>0.000000</td>\n",
       "      <td>0.000000</td>\n",
       "      <td>0.000000</td>\n",
       "      <td>0.000000</td>\n",
       "      <td>0.000000</td>\n",
       "      <td>0.000000</td>\n",
       "      <td>113.140498</td>\n",
       "      <td>0.000000</td>\n",
       "      <td>113.140498</td>\n",
       "    </tr>\n",
       "    <tr>\n",
       "      <td>1998</td>\n",
       "      <td>79.339455</td>\n",
       "      <td>52.639110</td>\n",
       "      <td>114.952669</td>\n",
       "      <td>1904.332258</td>\n",
       "      <td>0.000000</td>\n",
       "      <td>448.184119</td>\n",
       "      <td>2607.583124</td>\n",
       "      <td>0.000000</td>\n",
       "      <td>5207.030735</td>\n",
       "    </tr>\n",
       "    <tr>\n",
       "      <td>1999</td>\n",
       "      <td>501.475742</td>\n",
       "      <td>331.101179</td>\n",
       "      <td>385.376612</td>\n",
       "      <td>3202.463747</td>\n",
       "      <td>0.000000</td>\n",
       "      <td>589.457945</td>\n",
       "      <td>4136.016444</td>\n",
       "      <td>0.949407</td>\n",
       "      <td>9146.841076</td>\n",
       "    </tr>\n",
       "    <tr>\n",
       "      <td>2000</td>\n",
       "      <td>1611.448005</td>\n",
       "      <td>348.712409</td>\n",
       "      <td>411.344918</td>\n",
       "      <td>4053.897535</td>\n",
       "      <td>0.000000</td>\n",
       "      <td>911.757112</td>\n",
       "      <td>5716.655470</td>\n",
       "      <td>16.092981</td>\n",
       "      <td>13069.908430</td>\n",
       "    </tr>\n",
       "    <tr>\n",
       "      <td>2001</td>\n",
       "      <td>3431.465053</td>\n",
       "      <td>348.712409</td>\n",
       "      <td>822.024001</td>\n",
       "      <td>5520.049463</td>\n",
       "      <td>636.722427</td>\n",
       "      <td>1219.420603</td>\n",
       "      <td>7686.136090</td>\n",
       "      <td>328.345101</td>\n",
       "      <td>19992.875147</td>\n",
       "    </tr>\n",
       "  </tbody>\n",
       "</table>\n",
       "</div>"
      ],
      "text/plain": [
       "         Delaware    Dutchess      Greene       Putnam   Schoharie  \\\n",
       "year                                                                 \n",
       "1997     0.000000    0.000000    0.000000     0.000000    0.000000   \n",
       "1998    79.339455   52.639110  114.952669  1904.332258    0.000000   \n",
       "1999   501.475742  331.101179  385.376612  3202.463747    0.000000   \n",
       "2000  1611.448005  348.712409  411.344918  4053.897535    0.000000   \n",
       "2001  3431.465053  348.712409  822.024001  5520.049463  636.722427   \n",
       "\n",
       "         Sullivan       Ulster  Westchester  All Counties  \n",
       "year                                                       \n",
       "1997     0.000000   113.140498     0.000000    113.140498  \n",
       "1998   448.184119  2607.583124     0.000000   5207.030735  \n",
       "1999   589.457945  4136.016444     0.949407   9146.841076  \n",
       "2000   911.757112  5716.655470    16.092981  13069.908430  \n",
       "2001  1219.420603  7686.136090   328.345101  19992.875147  "
      ]
     },
     "execution_count": 33,
     "metadata": {},
     "output_type": "execute_result"
    }
   ],
   "source": [
    "sum_df = df.cumsum()\n",
    "sum_df['All Counties'] = sum_df.sum(axis=1)\n",
    "sum_df.head()"
   ]
  },
  {
   "cell_type": "code",
   "execution_count": 36,
   "metadata": {},
   "outputs": [],
   "source": [
    "with open('../output/lap_cumulative_acres.json', 'w') as f:\n",
    "    json.dump(sum_df.to_dict(), f, indent=2)"
   ]
  }
 ],
 "metadata": {
  "kernelspec": {
   "display_name": "Python 3",
   "language": "python",
   "name": "python3"
  },
  "language_info": {
   "codemirror_mode": {
    "name": "ipython",
    "version": 3
   },
   "file_extension": ".py",
   "mimetype": "text/x-python",
   "name": "python",
   "nbconvert_exporter": "python",
   "pygments_lexer": "ipython3",
   "version": "3.7.4"
  }
 },
 "nbformat": 4,
 "nbformat_minor": 2
}
