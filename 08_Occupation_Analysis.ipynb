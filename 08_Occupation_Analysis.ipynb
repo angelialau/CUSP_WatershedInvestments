{
  "nbformat": 4,
  "nbformat_minor": 0,
  "metadata": {
    "colab": {
      "name": "Occupation Analysis",
      "provenance": [],
      "collapsed_sections": []
    },
    "kernelspec": {
      "name": "python3",
      "display_name": "Python 3"
    }
  },
  "cells": [
    {
      "cell_type": "code",
      "metadata": {
        "id": "QRmJnPXuwXc5",
        "colab_type": "code",
        "colab": {}
      },
      "source": [
        "# importing necessary packages\n",
        "\n",
        "import numpy as np # linear algebra\n",
        "import pandas as pd # data processing, CSV file I/O (e.g. pd.read_csv)\n",
        "import matplotlib.pyplot as plt # graphing library\n",
        "import seaborn as sns # add-on customization\n",
        "import warnings # handle system warnigns\n",
        "from sklearn.preprocessing import StandardScaler # normalizer\n",
        "import datetime as dt # time and date modifications\n",
        "import random # randomizer library\n",
        "from scipy import stats # statistical testing library"
      ],
      "execution_count": null,
      "outputs": []
    },
    {
      "cell_type": "code",
      "metadata": {
        "id": "YIJjHzpawnXQ",
        "colab_type": "code",
        "colab": {}
      },
      "source": [
        "# modifying notebook saves\n",
        "%autosave 180\n",
        "\n",
        "# modifying pandas defaults\n",
        "pd.options.display.precision = 3\n",
        "\n",
        "# modifying matplotlib for inline display\n",
        "%matplotlib inline\n",
        "%config InlineBackend.figure_format = 'retina'\n",
        "\n",
        "# modifying seaborn\n",
        "sns.set()\n",
        "sns.set_style(\"whitegrid\")\n",
        "sns.set_context(\"notebook\")\n",
        "#colors = sns.color_palette(\"GnBu\", 10).as_hex()\n",
        "#colors= sns.color_palette(\"mako_r\", 10)\n",
        "colors = sns.color_palette(\"muted\", n_colors=12)\n",
        "\n",
        "#colors = ['#fcde9c', '#faa476', '#f0746e', '#e34f6f', '#dc3977', '#b9257a', '#7c1d6f']\n",
        "\n",
        "# modifying warnigns\n",
        "warnings.filterwarnings('ignore')"
      ],
      "execution_count": null,
      "outputs": []
    },
    {
      "cell_type": "code",
      "metadata": {
        "id": "U-O4oUWL4qJG",
        "colab_type": "code",
        "colab": {}
      },
      "source": [
        "def dfStats(df):\n",
        "  print(f'Dataframe stats: \\n================================================')\n",
        "  print(f'{df.info()}')\n",
        "\n",
        "  print('\\nUnique values in columns:\\n')\n",
        "  for column in df.columns:\n",
        "    print(f'{column}:{df[column].nunique()}')\n",
        "\n",
        "  print(f'\\nColumns with NaNs:\\n{df.columns[df.isna().all()].to_list()}')\n",
        "  print(f'\\nDuplicates in dataset:\\n{df.duplicated().sum()}')\n",
        "\n",
        "def pairPlot(df):\n",
        "  _=sns.pairplot(df)\n",
        "  plt.show()\n",
        "\n",
        "def colRename(df):\n",
        "  df.columns = df.columns.str.replace(' ','_').str.lower()\n",
        "  return df\n",
        "\n",
        "def nullFinder(df):\n",
        "  nullCol = df.columns[df.isna().all()].to_list()\n",
        "  return nullCol\n",
        "\n",
        "def dropColumns(df):\n",
        "  columns = nullFinder(df)\n",
        "  df.drop(columns, axis = 1, inplace=True)\n",
        "  return df\n",
        "\n",
        "def categorizer(df):\n",
        "  cols = {}\n",
        "  for column in df.columns:\n",
        "    cols[column] = df[column].nunique()\n",
        "  \n",
        "  catCols=[]\n",
        "  for column, value in cols.items():\n",
        "    if value<=df.shape[0]/10:\n",
        "      catCols.append(column)\n",
        "\n",
        "  for column in catCols:\n",
        "    df[column] = df[column].astype('category')\n",
        "  return df\n",
        "\n",
        "def replacer(listVals, name):\n",
        "  for item in listVals:\n",
        "    df.county.replace(item, name, inplace=True)\n",
        "\n",
        "def caller(df):\n",
        "  dfStats(df)\n",
        "  colRename(df)\n",
        "  dataframe = dropColumns(df)\n",
        "  pairPlot(df)\n",
        "\n",
        "  return dataframe"
      ],
      "execution_count": null,
      "outputs": []
    },
    {
      "cell_type": "markdown",
      "metadata": {
        "id": "J0MxQjb1BNdW",
        "colab_type": "text"
      },
      "source": [
        "# Data Wrangling"
      ]
    },
    {
      "cell_type": "markdown",
      "metadata": {
        "id": "lFy3NaBwTaij",
        "colab_type": "text"
      },
      "source": [
        "![County Categorization](https://upload.wikimedia.org/wikipedia/commons/thumb/3/3d/Map_of_New_York_Economic_Regions.svg/2560px-Map_of_New_York_Economic_Regions.svg.png)\n",
        "\n",
        "![Counties](https://www.familysearch.org/wiki/en/img_auth.php/d/d6/New-york-county-map.gif)"
      ]
    },
    {
      "cell_type": "code",
      "metadata": {
        "id": "NqLf-85W0SVJ",
        "colab_type": "code",
        "colab": {}
      },
      "source": [
        "qcew = pd.read_csv('https://raw.githubusercontent.com/angelialau/Watershed_Investments/master/data/QCEW_2000-2018_cleaned_selected_ind.csv?token=AD5Z33FSBWJ7HVRNPMEXYQC7D4SAY')\n",
        "qcew.head()"
      ],
      "execution_count": null,
      "outputs": []
    },
    {
      "cell_type": "code",
      "metadata": {
        "id": "2sd1DPcK0wHv",
        "colab_type": "code",
        "colab": {}
      },
      "source": [
        "qcew['NAICS Title'].unique()"
      ],
      "execution_count": null,
      "outputs": []
    },
    {
      "cell_type": "markdown",
      "metadata": {
        "id": "jeBO841q1aey",
        "colab_type": "text"
      },
      "source": [
        "### Natural resource related employment:\n",
        "##### 'Total, All Industries','Agriculture, Forestry, Fishing and Hunting','Wood Product Manufacturing','Forestry and Logging', 'Logging',   'Agriculture & Forestry Support Activity','Support Activities for Crop Production','Fishing, Hunting and Trapping''Fishing'\n"
      ]
    },
    {
      "cell_type": "code",
      "metadata": {
        "id": "BVGcPvRo0ycr",
        "colab_type": "code",
        "colab": {}
      },
      "source": [
        "qcew['Year'].min(), qcew['Year'].max()"
      ],
      "execution_count": null,
      "outputs": []
    },
    {
      "cell_type": "code",
      "metadata": {
        "id": "OeV14Q9p0638",
        "colab_type": "code",
        "colab": {}
      },
      "source": [
        "qcew.shape"
      ],
      "execution_count": null,
      "outputs": []
    },
    {
      "cell_type": "code",
      "metadata": {
        "id": "o-rtxAzw3AVH",
        "colab_type": "code",
        "colab": {}
      },
      "source": [
        "df=caller(qcew)\n"
      ],
      "execution_count": null,
      "outputs": []
    },
    {
      "cell_type": "code",
      "metadata": {
        "id": "lOMNuLRD4fUR",
        "colab_type": "code",
        "colab": {}
      },
      "source": [
        "df.head()"
      ],
      "execution_count": null,
      "outputs": []
    },
    {
      "cell_type": "code",
      "metadata": {
        "id": "11mqoCL6DTb0",
        "colab_type": "code",
        "colab": {}
      },
      "source": [
        "temp_df = df.copy()"
      ],
      "execution_count": null,
      "outputs": []
    },
    {
      "cell_type": "code",
      "metadata": {
        "id": "pxth5W2u3XFC",
        "colab_type": "code",
        "colab": {}
      },
      "source": [
        "WOH = ['Delaware', 'Sullivan', 'Ulster', 'Greene', 'Schoharie']\n",
        "UpST = ['Steuben', 'Schuyler', 'Chemung', 'Tompkins', 'Tioga', 'Chenango', 'Broome']\n",
        "UpNC = ['Essex','Clinton','Franklin','St. Lawrence', 'Jefferson', 'Lewis','Hamilton']\n",
        "UpCNY = ['Oneida', 'Herkimer', 'Fulton', 'Montgomery', 'Otsego', 'Oswego', 'Onondaga','Cayuga','Cortland', 'Madison',]\n",
        "UpCD = [ 'Albany', 'Columbia', 'Warren', 'Washington', 'Saratoga', 'Schenectady', 'Rensselaer' ]\n",
        "UpWNY = ['Niagara','Erie','Chautauqua','Cattaraugus','Allegany']\n",
        "DnHV = ['Dutchess', 'Orange', 'Putnam', 'Rockland', 'Westchester']\n",
        "UpFL = ['Orleans','Wyoming','Livingston','Ontario','Yates','Seneca','Wayne','Genesee','Monroe']\n",
        "NY= ['Richmond','Kings','New York','Queens','Bronx']\n",
        "LI=['Nassau','Suffolk']"
      ],
      "execution_count": null,
      "outputs": []
    },
    {
      "cell_type": "code",
      "metadata": {
        "id": "1ZrKJcKw3AZn",
        "colab_type": "code",
        "colab": {}
      },
      "source": [
        "replacer(WOH, 'West of Hudson');\n",
        "replacer(UpST, 'Southern Tier');\n",
        "replacer(UpNC, 'North Country');\n",
        "replacer(UpCNY, 'Central New York');\n",
        "replacer(UpCD, 'Capital District');\n",
        "replacer(UpWNY, 'Western New York');\n",
        "replacer(DnHV, 'Hudson Valley');\n",
        "replacer(UpFL, 'Finger Lankes');\n",
        "replacer(NY, 'New York City');\n",
        "replacer(LI, 'Long Island');"
      ],
      "execution_count": null,
      "outputs": []
    },
    {
      "cell_type": "code",
      "metadata": {
        "id": "fsFfhYZ93Abe",
        "colab_type": "code",
        "colab": {}
      },
      "source": [
        "df.head()"
      ],
      "execution_count": null,
      "outputs": []
    },
    {
      "cell_type": "code",
      "metadata": {
        "id": "IzoHtGYp7QKo",
        "colab_type": "code",
        "colab": {}
      },
      "source": [
        "df.naics_title.value_counts()"
      ],
      "execution_count": null,
      "outputs": []
    },
    {
      "cell_type": "code",
      "metadata": {
        "id": "fMPIaeJi1YNG",
        "colab_type": "code",
        "colab": {}
      },
      "source": [
        "df.drop(df.index[(df.naics_title!='Museums, Parks and Historical Sites') & (df.naics_title!='RV Parks and Recreational Camps') & (df.naics_title!='Agriculture, Forestry, Fishing and Hunting') & (df.naics_title!='Wood Product Manufacturing') & (df.naics_title!='Forestry and Logging') \\\n",
        "                   & (df.naics_title!='Logging') & (df.naics_title!='Agriculture & Forestry Support Activity') & (df.naics_title!='Support Activities for Crop Production') & (df.naics_title!='Fishing')\\\n",
        "                   & (df.naics_title!='Fishing, Hunting and Trapping')], inplace=True)"
      ],
      "execution_count": null,
      "outputs": []
    },
    {
      "cell_type": "code",
      "metadata": {
        "id": "kFzXcywx73uV",
        "colab_type": "code",
        "colab": {}
      },
      "source": [
        "df.naics_title.value_counts()"
      ],
      "execution_count": null,
      "outputs": []
    },
    {
      "cell_type": "code",
      "metadata": {
        "id": "7wTF9NYm7yvL",
        "colab_type": "code",
        "colab": {}
      },
      "source": [
        "df.head()"
      ],
      "execution_count": null,
      "outputs": []
    },
    {
      "cell_type": "code",
      "metadata": {
        "id": "sXGSltHd8DEf",
        "colab_type": "code",
        "colab": {}
      },
      "source": [
        "df.reset_index(inplace=True, drop=True)\n",
        "df.head()"
      ],
      "execution_count": null,
      "outputs": []
    },
    {
      "cell_type": "code",
      "metadata": {
        "id": "RSzZHARt8Gpv",
        "colab_type": "code",
        "colab": {}
      },
      "source": [
        "indCounty = df.groupby(['county','naics_title']).sum().reset_index()\n",
        "indCounty.average_employment.fillna(0, inplace=True)\n",
        "indCounty.head()"
      ],
      "execution_count": null,
      "outputs": []
    },
    {
      "cell_type": "code",
      "metadata": {
        "id": "uEwmxTnQ-MmL",
        "colab_type": "code",
        "colab": {}
      },
      "source": [
        "plt.figure(figsize=(30,10))\n",
        "ax = sns.barplot(x='naics_title', y='average_employment', data=indCounty, hue='county', palette=colors)\n",
        "plt.title('Occupation average employment by Counties', fontsize=20)\n",
        "plt.xlabel('Occupation', fontsize=16)\n",
        "plt.xticks(rotation=45)\n",
        "plt.ylabel('Average Employment', fontsize=16)\n",
        "plt.legend(loc='upper right')\n",
        "#h, l = ax.get_legend_handles_labels()\n",
        "#ax.legend(h, labels, title=\"Counties\")\n",
        "plt.yscale('log')"
      ],
      "execution_count": null,
      "outputs": []
    },
    {
      "cell_type": "code",
      "metadata": {
        "id": "wtgJYKf5-Y4z",
        "colab_type": "code",
        "colab": {}
      },
      "source": [
        "empCh = df[['county','naics_title','average_employment','year']].copy()\n",
        "empCh.head()"
      ],
      "execution_count": null,
      "outputs": []
    },
    {
      "cell_type": "code",
      "metadata": {
        "id": "36wGlKfG_Q22",
        "colab_type": "code",
        "colab": {}
      },
      "source": [
        "empCh = empCh.pivot_table(index=('county','naics_title'), columns=[\"year\"], values=\"average_employment\", aggfunc=np.sum, observed=True)\n",
        "empCh.head()"
      ],
      "execution_count": null,
      "outputs": []
    },
    {
      "cell_type": "code",
      "metadata": {
        "id": "SCLGzvlv_b7M",
        "colab_type": "code",
        "colab": {}
      },
      "source": [
        "empCh = empCh.iloc[:,[0,-1]]\n",
        "empCh.head()"
      ],
      "execution_count": null,
      "outputs": []
    },
    {
      "cell_type": "code",
      "metadata": {
        "id": "Ysu6N-t8_h2L",
        "colab_type": "code",
        "colab": {}
      },
      "source": [
        "empCh.fillna(0, inplace=True)\n",
        "empCh.head()"
      ],
      "execution_count": null,
      "outputs": []
    },
    {
      "cell_type": "code",
      "metadata": {
        "id": "x4jeVJEe_l6s",
        "colab_type": "code",
        "colab": {}
      },
      "source": [
        "empCh.columns = ['2000', '2018']\n",
        "empCh['Diff'] = ((empCh['2018'] - empCh['2000'])/empCh['2000'])*100\n",
        "empCh.reset_index(inplace=True)\n",
        "empCh.head()"
      ],
      "execution_count": null,
      "outputs": []
    },
    {
      "cell_type": "code",
      "metadata": {
        "id": "QeVz3y17_w5z",
        "colab_type": "code",
        "colab": {}
      },
      "source": [
        "plt.clf()\n",
        "#label= ['Hudson Valley','Long Island','Neww York City','Statewide','Capital District','Central New York','Finger Lakes','North County','Souther Tier','Western New York','West of Hudson']\n",
        "\n",
        "plt.figure(figsize=(40,8))\n",
        "sns.barplot(x='naics_title', y='Diff', hue='county', data=empCh, palette=colors,edgecolor='k', lw=1);\n",
        "plt.title('Change in occupation from 2000 to 2018', fontsize=20)\n",
        "plt.xlabel('Occupation', fontsize=16)\n",
        "plt.ylabel('Absolute Change', fontsize=16)\n",
        "plt.xticks(rotation=10, fontsize = 12, ha='center')\n",
        "plt.legend(loc='upper right', fontsize=12)\n",
        "#hx, lx = ax.get_legend_handles_labels()\n",
        "#ax.legend(hx, label, title=\"Interested in politics\")\n",
        "plt.yscale('linear')\n",
        "plt.show();"
      ],
      "execution_count": null,
      "outputs": []
    },
    {
      "cell_type": "code",
      "metadata": {
        "id": "u0C3SELE7Vl0",
        "colab_type": "code",
        "colab": {}
      },
      "source": [
        "naturalResourcedf = df.groupby(['naics_title', 'county']).sum()\n",
        "naturalResourcedf= naturalResourcedf.loc[:,'average_employment'].to_frame().reset_index()\n",
        "naturalResourcedf = naturalResourcedf.pivot_table(index='county', columns=[\"naics_title\"], values=\"average_employment\", aggfunc=np.sum, observed=True)\n",
        "for col in naturalResourcedf.columns:\n",
        "  naturalResourcedf[col] = naturalResourcedf[col]*100/naturalResourcedf[col].sum()\n",
        "\n",
        "\n",
        "naturalResourcedf = naturalResourcedf.unstack().to_frame().reset_index()\n",
        "naturalResourcedf.head()"
      ],
      "execution_count": null,
      "outputs": []
    },
    {
      "cell_type": "code",
      "metadata": {
        "id": "T7ClWXgb_SEY",
        "colab_type": "code",
        "colab": {}
      },
      "source": [
        "plt.figure(figsize=(35,8))\n",
        "sns.barplot(x='naics_title', y=0, hue='county', data=x1, palette=colors, edgecolor='k', lw=1)\n",
        "plt.xticks(rotation=10, fontsize = 12, ha='center')\n",
        "plt.xlabel('Occupation', fontsize=13)\n",
        "plt.ylabel('% employment concentration', fontsize=13)\n",
        "plt.legend(bbox_to_anchor=(1.1, 0.99), loc='upper right', ncol=1, fontsize=12)\n",
        "plt.title('Employment concentration in natural resource occupation', fontsize=18)\n",
        "plt.show()"
      ],
      "execution_count": null,
      "outputs": []
    },
    {
      "cell_type": "code",
      "metadata": {
        "id": "aB5vGiro9VUg",
        "colab_type": "code",
        "colab": {}
      },
      "source": [
        "temp_df.head()"
      ],
      "execution_count": null,
      "outputs": []
    },
    {
      "cell_type": "code",
      "metadata": {
        "id": "Ds8yi17XFGiH",
        "colab_type": "code",
        "colab": {}
      },
      "source": [
        "temp_df.shape"
      ],
      "execution_count": null,
      "outputs": []
    },
    {
      "cell_type": "code",
      "metadata": {
        "id": "7puD4s7SE24t",
        "colab_type": "code",
        "colab": {}
      },
      "source": [
        "temp_df.drop(temp_df.index[(temp_df.naics_title!='Museums, Parks and Historical Sites') & (temp_df.naics_title!='RV Parks and Recreational Camps') & (temp_df.naics_title!='Agriculture, Forestry, Fishing and Hunting') & (temp_df.naics_title!='Wood Product Manufacturing') & (temp_df.naics_title!='Forestry and Logging') \\\n",
        "                   & (temp_df.naics_title!='Logging') & (temp_df.naics_title!='Agriculture & Forestry Support Activity') & (temp_df.naics_title!='Support Activities for Crop Production') & (temp_df.naics_title!='Fishing')\\\n",
        "                   & (temp_df.naics_title!='Fishing, Hunting and Trapping')], inplace=True)\n",
        "temp_df.shape"
      ],
      "execution_count": null,
      "outputs": []
    },
    {
      "cell_type": "markdown",
      "metadata": {
        "id": "xfwjBhwYFaB2",
        "colab_type": "text"
      },
      "source": [
        "#### WOH = ['Delaware', 'Sullivan', 'Ulster', 'Greene', 'Schoharie']"
      ]
    },
    {
      "cell_type": "code",
      "metadata": {
        "id": "afYxDFaEFJRO",
        "colab_type": "code",
        "colab": {}
      },
      "source": [
        "temp_df.drop(temp_df.index[(temp_df.county!='Delaware') & (temp_df.county!='Sullivan') & (temp_df.county!='Ulster') &(temp_df.county!='Greene') &(temp_df.county!='Schoharie')], inplace=True) \n",
        "temp_df.shape"
      ],
      "execution_count": null,
      "outputs": []
    },
    {
      "cell_type": "code",
      "metadata": {
        "id": "gcg8SFH1Ftv2",
        "colab_type": "code",
        "colab": {}
      },
      "source": [
        "temp_df.head()"
      ],
      "execution_count": null,
      "outputs": []
    },
    {
      "cell_type": "code",
      "metadata": {
        "id": "nWX7nevaFvDn",
        "colab_type": "code",
        "colab": {}
      },
      "source": [
        "WempCh = temp_df[['county','naics_title','average_employment','year']].copy()\n",
        "WempCh = WempCh.pivot_table(index=('county','naics_title'), columns=[\"year\"], values=\"average_employment\", aggfunc=np.sum, observed=True)\n",
        "WempCh = WempCh.iloc[:,[0,-1]]\n",
        "WempCh.head()"
      ],
      "execution_count": null,
      "outputs": []
    },
    {
      "cell_type": "code",
      "metadata": {
        "id": "tN8R1kM5F70V",
        "colab_type": "code",
        "colab": {}
      },
      "source": [
        "WempCh.fillna(0, inplace=True)\n",
        "WempCh.columns = ['2000', '2018']\n",
        "WempCh['Diff'] = ((WempCh['2018'] - WempCh['2000'])/WempCh['2000'])*100\n",
        "WempCh.reset_index(inplace=True)\n",
        "WempCh.head()"
      ],
      "execution_count": null,
      "outputs": []
    },
    {
      "cell_type": "code",
      "metadata": {
        "id": "8aSkm4EvGC7C",
        "colab_type": "code",
        "colab": {}
      },
      "source": [
        "plt.clf()\n",
        "#label= ['Hudson Valley','Long Island','Neww York City','Statewide','Capital District','Central New York','Finger Lakes','North County','Souther Tier','Western New York','West of Hudson']\n",
        "\n",
        "plt.figure(figsize=(37,5))\n",
        "sns.barplot(x='naics_title', y='Diff', hue='county', data=WempCh, palette=colors,edgecolor='k', lw=1);\n",
        "plt.title('WOH Occupation percentage change from 2000 to 2018', fontsize=20)\n",
        "plt.xlabel('Occupation', fontsize=16)\n",
        "plt.ylabel('% Change', fontsize=16)\n",
        "plt.xticks(rotation=0, fontsize = 12, ha='center')\n",
        "plt.legend(loc='upper right', fontsize=12)\n",
        "#hx, lx = ax.get_legend_handles_labels()\n",
        "#ax.legend(hx, label, title=\"Interested in politics\")\n",
        "plt.yscale('linear')\n",
        "plt.show();"
      ],
      "execution_count": null,
      "outputs": []
    },
    {
      "cell_type": "code",
      "metadata": {
        "id": "Wg4eT1J0GTBu",
        "colab_type": "code",
        "colab": {}
      },
      "source": [
        "naturalResourceWOH = temp_df.groupby(['naics_title', 'county']).sum()\n",
        "naturalResourceWOH= naturalResourceWOH.loc[:,'average_employment'].to_frame().reset_index()\n",
        "naturalResourceWOH = naturalResourceWOH.pivot_table(index='county', columns=[\"naics_title\"], values=\"average_employment\", aggfunc=np.sum, observed=True)\n",
        "for col in naturalResourceWOH.columns:\n",
        "  naturalResourceWOH[col] = naturalResourceWOH[col]*100/naturalResourceWOH[col].sum()\n",
        "\n",
        "\n",
        "naturalResourceWOH = naturalResourceWOH.unstack().to_frame().reset_index()\n",
        "naturalResourceWOH.head()"
      ],
      "execution_count": null,
      "outputs": []
    },
    {
      "cell_type": "code",
      "metadata": {
        "id": "qGxRX17MG4kn",
        "colab_type": "code",
        "colab": {}
      },
      "source": [
        "plt.figure(figsize=(35,8))\n",
        "sns.barplot(x='naics_title', y=0, hue='county', data=y1, palette=colors,edgecolor='k', lw=1)\n",
        "plt.xticks(rotation=10, fontsize = 12, ha='center')\n",
        "plt.xlabel('Occupation', fontsize=13)\n",
        "plt.ylabel('% employment concentration', fontsize=13)\n",
        "plt.legend(bbox_to_anchor=(1.1, 0.99), loc='upper right', ncol=1, fontsize=12)\n",
        "plt.title('Employment concentration in natural resource occupation (WOH)', fontsize=18)\n",
        "plt.show()"
      ],
      "execution_count": null,
      "outputs": []
    }
  ]
}
